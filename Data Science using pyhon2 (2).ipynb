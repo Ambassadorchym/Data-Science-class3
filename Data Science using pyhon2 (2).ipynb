{
 "cells": [
  {
   "cell_type": "code",
   "execution_count": 1,
   "id": "1e6c52e6",
   "metadata": {},
   "outputs": [
    {
     "data": {
      "text/plain": [
       "'chinyere'"
      ]
     },
     "execution_count": 1,
     "metadata": {},
     "output_type": "execute_result"
    }
   ],
   "source": [
    "name = \"chinyere\"\n",
    "name"
   ]
  },
  {
   "cell_type": "markdown",
   "id": "01bd6ace",
   "metadata": {},
   "source": [
    "\n",
    "## List\n",
    "\n",
    ".A lst is an ordered sequence of items\n",
    ".It is a very flexible data type in python.There is no need for the value in list to be of the same data type. \n",
    ".The list is the highly used data type in python.List data type is the most exclusive datatype in python contaning varsatile data. It can easily hold different types of data in python.\n",
    "\n"
   ]
  },
  {
   "cell_type": "code",
   "execution_count": 2,
   "id": "1829bc61",
   "metadata": {},
   "outputs": [
    {
     "name": "stdout",
     "output_type": "stream",
     "text": [
      "Reset css and font defaults in:\n",
      "C:\\Users\\dell\\.jupyter\\custom &\n",
      "C:\\Users\\dell\\AppData\\Roaming\\jupyter\\nbextensions\n"
     ]
    }
   ],
   "source": [
    "!jt -r"
   ]
  },
  {
   "cell_type": "markdown",
   "id": "c9841dab",
   "metadata": {},
   "source": [
    "## list"
   ]
  },
  {
   "cell_type": "code",
   "execution_count": 4,
   "id": "fc2e18f5",
   "metadata": {},
   "outputs": [
    {
     "name": "stdout",
     "output_type": "stream",
     "text": [
      "Requirement already satisfied: jupyterthemes in c:\\users\\dell\\anaconda3\\lib\\site-packages (0.20.0)\n",
      "Requirement already satisfied: notebook>=5.6.0 in c:\\users\\dell\\anaconda3\\lib\\site-packages (from jupyterthemes) (6.3.0)\n",
      "Requirement already satisfied: matplotlib>=1.4.3 in c:\\users\\dell\\anaconda3\\lib\\site-packages (from jupyterthemes) (3.3.4)\n",
      "Requirement already satisfied: lesscpy>=0.11.2 in c:\\users\\dell\\anaconda3\\lib\\site-packages (from jupyterthemes) (0.13.0)\n",
      "Requirement already satisfied: ipython>=5.4.1 in c:\\users\\dell\\anaconda3\\lib\\site-packages (from jupyterthemes) (7.22.0)\n",
      "Requirement already satisfied: jupyter-core in c:\\users\\dell\\anaconda3\\lib\\site-packages (from jupyterthemes) (4.7.1)\n",
      "Requirement already satisfied: pygments in c:\\users\\dell\\anaconda3\\lib\\site-packages (from ipython>=5.4.1->jupyterthemes) (2.8.1)\n",
      "Requirement already satisfied: prompt-toolkit!=3.0.0,!=3.0.1,<3.1.0,>=2.0.0 in c:\\users\\dell\\anaconda3\\lib\\site-packages (from ipython>=5.4.1->jupyterthemes) (3.0.17)\n",
      "Requirement already satisfied: decorator in c:\\users\\dell\\anaconda3\\lib\\site-packages (from ipython>=5.4.1->jupyterthemes) (5.0.6)\n",
      "Requirement already satisfied: pickleshare in c:\\users\\dell\\anaconda3\\lib\\site-packages (from ipython>=5.4.1->jupyterthemes) (0.7.5)\n",
      "Requirement already satisfied: colorama in c:\\users\\dell\\anaconda3\\lib\\site-packages (from ipython>=5.4.1->jupyterthemes) (0.4.4)\n",
      "Requirement already satisfied: jedi>=0.16 in c:\\users\\dell\\anaconda3\\lib\\site-packages (from ipython>=5.4.1->jupyterthemes) (0.17.2)\n",
      "Requirement already satisfied: backcall in c:\\users\\dell\\anaconda3\\lib\\site-packages (from ipython>=5.4.1->jupyterthemes) (0.2.0)\n",
      "Requirement already satisfied: traitlets>=4.2 in c:\\users\\dell\\anaconda3\\lib\\site-packages (from ipython>=5.4.1->jupyterthemes) (5.0.5)\n",
      "Requirement already satisfied: setuptools>=18.5 in c:\\users\\dell\\anaconda3\\lib\\site-packages (from ipython>=5.4.1->jupyterthemes) (52.0.0.post20210125)\n",
      "Requirement already satisfied: parso<0.8.0,>=0.7.0 in c:\\users\\dell\\anaconda3\\lib\\site-packages (from jedi>=0.16->ipython>=5.4.1->jupyterthemes) (0.7.0)\n",
      "Requirement already satisfied: ply in c:\\users\\dell\\anaconda3\\lib\\site-packages (from lesscpy>=0.11.2->jupyterthemes) (3.11)\n",
      "Requirement already satisfied: six in c:\\users\\dell\\anaconda3\\lib\\site-packages (from lesscpy>=0.11.2->jupyterthemes) (1.15.0)\n",
      "Requirement already satisfied: pyparsing!=2.0.4,!=2.1.2,!=2.1.6,>=2.0.3 in c:\\users\\dell\\anaconda3\\lib\\site-packages (from matplotlib>=1.4.3->jupyterthemes) (2.4.7)\n",
      "Requirement already satisfied: kiwisolver>=1.0.1 in c:\\users\\dell\\anaconda3\\lib\\site-packages (from matplotlib>=1.4.3->jupyterthemes) (1.3.1)\n",
      "Requirement already satisfied: numpy>=1.15 in c:\\users\\dell\\anaconda3\\lib\\site-packages (from matplotlib>=1.4.3->jupyterthemes) (1.20.1)\n",
      "Requirement already satisfied: cycler>=0.10 in c:\\users\\dell\\anaconda3\\lib\\site-packages (from matplotlib>=1.4.3->jupyterthemes) (0.10.0)\n",
      "Requirement already satisfied: pillow>=6.2.0 in c:\\users\\dell\\anaconda3\\lib\\site-packages (from matplotlib>=1.4.3->jupyterthemes) (8.2.0)\n",
      "Requirement already satisfied: python-dateutil>=2.1 in c:\\users\\dell\\anaconda3\\lib\\site-packages (from matplotlib>=1.4.3->jupyterthemes) (2.8.1)\n",
      "Requirement already satisfied: nbconvert in c:\\users\\dell\\anaconda3\\lib\\site-packages (from notebook>=5.6.0->jupyterthemes) (6.0.7)\n",
      "Requirement already satisfied: ipython-genutils in c:\\users\\dell\\anaconda3\\lib\\site-packages (from notebook>=5.6.0->jupyterthemes) (0.2.0)\n",
      "Requirement already satisfied: Send2Trash>=1.5.0 in c:\\users\\dell\\anaconda3\\lib\\site-packages (from notebook>=5.6.0->jupyterthemes) (1.5.0)\n",
      "Requirement already satisfied: jupyter-client>=5.3.4 in c:\\users\\dell\\anaconda3\\lib\\site-packages (from notebook>=5.6.0->jupyterthemes) (6.1.12)\n",
      "Requirement already satisfied: nbformat in c:\\users\\dell\\anaconda3\\lib\\site-packages (from notebook>=5.6.0->jupyterthemes) (5.1.3)\n",
      "Requirement already satisfied: prometheus-client in c:\\users\\dell\\anaconda3\\lib\\site-packages (from notebook>=5.6.0->jupyterthemes) (0.10.1)\n",
      "Requirement already satisfied: argon2-cffi in c:\\users\\dell\\anaconda3\\lib\\site-packages (from notebook>=5.6.0->jupyterthemes) (20.1.0)\n",
      "Requirement already satisfied: tornado>=6.1 in c:\\users\\dell\\anaconda3\\lib\\site-packages (from notebook>=5.6.0->jupyterthemes) (6.1)\n",
      "Requirement already satisfied: jinja2 in c:\\users\\dell\\anaconda3\\lib\\site-packages (from notebook>=5.6.0->jupyterthemes) (2.11.3)\n",
      "Requirement already satisfied: pyzmq>=17 in c:\\users\\dell\\anaconda3\\lib\\site-packages (from notebook>=5.6.0->jupyterthemes) (20.0.0)\n",
      "Requirement already satisfied: terminado>=0.8.3 in c:\\users\\dell\\anaconda3\\lib\\site-packages (from notebook>=5.6.0->jupyterthemes) (0.9.4)\n",
      "Requirement already satisfied: ipykernel in c:\\users\\dell\\anaconda3\\lib\\site-packages (from notebook>=5.6.0->jupyterthemes) (5.3.4)\n",
      "Requirement already satisfied: pywin32>=1.0 in c:\\users\\dell\\anaconda3\\lib\\site-packages (from jupyter-core->jupyterthemes) (227)\n",
      "Requirement already satisfied: wcwidth in c:\\users\\dell\\anaconda3\\lib\\site-packages (from prompt-toolkit!=3.0.0,!=3.0.1,<3.1.0,>=2.0.0->ipython>=5.4.1->jupyterthemes) (0.2.5)\n",
      "Requirement already satisfied: pywinpty>=0.5 in c:\\users\\dell\\anaconda3\\lib\\site-packages (from terminado>=0.8.3->notebook>=5.6.0->jupyterthemes) (0.5.7)\n",
      "Requirement already satisfied: cffi>=1.0.0 in c:\\users\\dell\\anaconda3\\lib\\site-packages (from argon2-cffi->notebook>=5.6.0->jupyterthemes) (1.14.5)\n",
      "Requirement already satisfied: pycparser in c:\\users\\dell\\anaconda3\\lib\\site-packages (from cffi>=1.0.0->argon2-cffi->notebook>=5.6.0->jupyterthemes) (2.20)\n",
      "Requirement already satisfied: MarkupSafe>=0.23 in c:\\users\\dell\\anaconda3\\lib\\site-packages (from jinja2->notebook>=5.6.0->jupyterthemes) (1.1.1)\n",
      "Requirement already satisfied: testpath in c:\\users\\dell\\anaconda3\\lib\\site-packages (from nbconvert->notebook>=5.6.0->jupyterthemes) (0.4.4)\n",
      "Requirement already satisfied: mistune<2,>=0.8.1 in c:\\users\\dell\\anaconda3\\lib\\site-packages (from nbconvert->notebook>=5.6.0->jupyterthemes) (0.8.4)\n",
      "Requirement already satisfied: defusedxml in c:\\users\\dell\\anaconda3\\lib\\site-packages (from nbconvert->notebook>=5.6.0->jupyterthemes) (0.7.1)\n",
      "Requirement already satisfied: nbclient<0.6.0,>=0.5.0 in c:\\users\\dell\\anaconda3\\lib\\site-packages (from nbconvert->notebook>=5.6.0->jupyterthemes) (0.5.3)\n",
      "Requirement already satisfied: jupyterlab-pygments in c:\\users\\dell\\anaconda3\\lib\\site-packages (from nbconvert->notebook>=5.6.0->jupyterthemes) (0.1.2)\n",
      "Requirement already satisfied: pandocfilters>=1.4.1 in c:\\users\\dell\\anaconda3\\lib\\site-packages (from nbconvert->notebook>=5.6.0->jupyterthemes) (1.4.3)\n",
      "Requirement already satisfied: entrypoints>=0.2.2 in c:\\users\\dell\\anaconda3\\lib\\site-packages (from nbconvert->notebook>=5.6.0->jupyterthemes) (0.3)\n",
      "Requirement already satisfied: bleach in c:\\users\\dell\\anaconda3\\lib\\site-packages (from nbconvert->notebook>=5.6.0->jupyterthemes) (3.3.0)\n",
      "Requirement already satisfied: async-generator in c:\\users\\dell\\anaconda3\\lib\\site-packages (from nbclient<0.6.0,>=0.5.0->nbconvert->notebook>=5.6.0->jupyterthemes) (1.10)\n",
      "Requirement already satisfied: nest-asyncio in c:\\users\\dell\\anaconda3\\lib\\site-packages (from nbclient<0.6.0,>=0.5.0->nbconvert->notebook>=5.6.0->jupyterthemes) (1.5.1)\n",
      "Requirement already satisfied: jsonschema!=2.5.0,>=2.4 in c:\\users\\dell\\anaconda3\\lib\\site-packages (from nbformat->notebook>=5.6.0->jupyterthemes) (3.2.0)\n",
      "Requirement already satisfied: pyrsistent>=0.14.0 in c:\\users\\dell\\anaconda3\\lib\\site-packages (from jsonschema!=2.5.0,>=2.4->nbformat->notebook>=5.6.0->jupyterthemes) (0.17.3)\n",
      "Requirement already satisfied: attrs>=17.4.0 in c:\\users\\dell\\anaconda3\\lib\\site-packages (from jsonschema!=2.5.0,>=2.4->nbformat->notebook>=5.6.0->jupyterthemes) (20.3.0)\n",
      "Requirement already satisfied: webencodings in c:\\users\\dell\\anaconda3\\lib\\site-packages (from bleach->nbconvert->notebook>=5.6.0->jupyterthemes) (0.5.1)\n",
      "Requirement already satisfied: packaging in c:\\users\\dell\\anaconda3\\lib\\site-packages (from bleach->nbconvert->notebook>=5.6.0->jupyterthemes) (20.9)\n"
     ]
    }
   ],
   "source": [
    "! pip install jupyterthemes"
   ]
  },
  {
   "cell_type": "code",
   "execution_count": 5,
   "id": "517a7f98",
   "metadata": {},
   "outputs": [
    {
     "name": "stdout",
     "output_type": "stream",
     "text": [
      "usage: jt [-h] [-l] [-t THEME] [-f MONOFONT] [-fs MONOSIZE] [-nf NBFONT]\n",
      "          [-nfs NBFONTSIZE] [-tf TCFONT] [-tfs TCFONTSIZE] [-dfs DFFONTSIZE]\n",
      "          [-ofs OUTFONTSIZE] [-mathfs MATHFONTSIZE] [-m MARGINS]\n",
      "          [-cursw CURSORWIDTH] [-cursc CURSORCOLOR] [-cellw CELLWIDTH]\n",
      "          [-lineh LINEHEIGHT] [-altp] [-altmd] [-altout] [-P] [-T] [-N] [-kl]\n",
      "          [-vim] [-r] [-dfonts]\n",
      "\n",
      "optional arguments:\n",
      "  -h, --help            show this help message and exit\n",
      "  -l, --list            list available themes\n",
      "  -t THEME, --theme THEME\n",
      "                        theme name to install\n",
      "  -f MONOFONT, --monofont MONOFONT\n",
      "                        monospace code font\n",
      "  -fs MONOSIZE, --monosize MONOSIZE\n",
      "                        code font-size\n",
      "  -nf NBFONT, --nbfont NBFONT\n",
      "                        notebook font\n",
      "  -nfs NBFONTSIZE, --nbfontsize NBFONTSIZE\n",
      "                        notebook fontsize\n",
      "  -tf TCFONT, --tcfont TCFONT\n",
      "                        txtcell font\n",
      "  -tfs TCFONTSIZE, --tcfontsize TCFONTSIZE\n",
      "                        txtcell fontsize\n",
      "  -dfs DFFONTSIZE, --dffontsize DFFONTSIZE\n",
      "                        pandas dataframe fontsize\n",
      "  -ofs OUTFONTSIZE, --outfontsize OUTFONTSIZE\n",
      "                        output area fontsize\n",
      "  -mathfs MATHFONTSIZE, --mathfontsize MATHFONTSIZE\n",
      "                        mathjax fontsize (in %)\n",
      "  -m MARGINS, --margins MARGINS\n",
      "                        fix margins of main intro page\n",
      "  -cursw CURSORWIDTH, --cursorwidth CURSORWIDTH\n",
      "                        set cursorwidth (px)\n",
      "  -cursc CURSORCOLOR, --cursorcolor CURSORCOLOR\n",
      "                        cursor color (r, b, g, p)\n",
      "  -cellw CELLWIDTH, --cellwidth CELLWIDTH\n",
      "                        set cell width (px or %)\n",
      "  -lineh LINEHEIGHT, --lineheight LINEHEIGHT\n",
      "                        code/text line-height (%)\n",
      "  -altp, --altprompt    alt input prompt style\n",
      "  -altmd, --altmarkdown\n",
      "                        alt markdown cell style\n",
      "  -altout, --altoutput  set output bg color to notebook bg\n",
      "  -P, --hideprompt      hide cell input prompt\n",
      "  -T, --toolbar         make toolbar visible\n",
      "  -N, --nbname          nb name/logo visible\n",
      "  -kl, --kernellogo     kernel logo visible\n",
      "  -vim, --vimext        toggle styles for vim\n",
      "  -r, --reset           reset to default theme\n",
      "  -dfonts, --defaultfonts\n",
      "                        force fonts to browser default\n"
     ]
    }
   ],
   "source": [
    "! jt -h"
   ]
  },
  {
   "cell_type": "code",
   "execution_count": 6,
   "id": "d42e5c07",
   "metadata": {},
   "outputs": [
    {
     "name": "stdout",
     "output_type": "stream",
     "text": [
      "Available Themes: \n",
      "   chesterish\n",
      "   grade3\n",
      "   gruvboxd\n",
      "   gruvboxl\n",
      "   monokai\n",
      "   oceans16\n",
      "   onedork\n",
      "   solarizedd\n",
      "   solarizedl\n"
     ]
    }
   ],
   "source": [
    "! jt -l"
   ]
  },
  {
   "cell_type": "code",
   "execution_count": 8,
   "id": "0ffdaae9",
   "metadata": {},
   "outputs": [],
   "source": [
    "! jt -t gruvboxd"
   ]
  },
  {
   "cell_type": "code",
   "execution_count": 9,
   "id": "262978cf",
   "metadata": {},
   "outputs": [],
   "source": [
    "! jt -t solarizedd -T"
   ]
  },
  {
   "cell_type": "code",
   "execution_count": 10,
   "id": "b527ece1",
   "metadata": {},
   "outputs": [
    {
     "name": "stdout",
     "output_type": "stream",
     "text": [
      "Available Themes: \n",
      "   chesterish\n",
      "   grade3\n",
      "   gruvboxd\n",
      "   gruvboxl\n",
      "   monokai\n",
      "   oceans16\n",
      "   onedork\n",
      "   solarizedd\n",
      "   solarizedl\n"
     ]
    }
   ],
   "source": [
    "! jt -l"
   ]
  },
  {
   "cell_type": "code",
   "execution_count": 11,
   "id": "2e04c6eb",
   "metadata": {},
   "outputs": [],
   "source": [
    "! jt -t monokai -T -N"
   ]
  },
  {
   "cell_type": "code",
   "execution_count": null,
   "id": "c216a968",
   "metadata": {},
   "outputs": [],
   "source": []
  },
  {
   "cell_type": "markdown",
   "id": "e23b9cc2",
   "metadata": {},
   "source": [
    "## List\n",
    "\n",
    ".A lst is an ordered sequence of items\n",
    ".It is a very flexible data type in python.There is no need for the value in list to be of the same data type. \n",
    ".The list is the highly used data type in python.List data type is the most exclusive datatype in python contaning varsatile data. It can easily hold different types of data in python.\n"
   ]
  },
  {
   "cell_type": "code",
   "execution_count": 12,
   "id": "bf26cab0",
   "metadata": {},
   "outputs": [
    {
     "data": {
      "text/plain": [
       "['chinyere', 'chinazam', 'amaka', 'Efe', 'lagos']"
      ]
     },
     "execution_count": 12,
     "metadata": {},
     "output_type": "execute_result"
    }
   ],
   "source": [
    "name =['chinyere','chinazam','amaka','Efe','lagos']\n",
    "name"
   ]
  },
  {
   "cell_type": "code",
   "execution_count": 13,
   "id": "7e216542",
   "metadata": {},
   "outputs": [
    {
     "data": {
      "text/plain": [
       "list"
      ]
     },
     "execution_count": 13,
     "metadata": {},
     "output_type": "execute_result"
    }
   ],
   "source": [
    "type(name)"
   ]
  },
  {
   "cell_type": "code",
   "execution_count": 14,
   "id": "e47ada42",
   "metadata": {},
   "outputs": [
    {
     "data": {
      "text/plain": [
       "['__add__',\n",
       " '__class__',\n",
       " '__contains__',\n",
       " '__delattr__',\n",
       " '__dir__',\n",
       " '__doc__',\n",
       " '__eq__',\n",
       " '__format__',\n",
       " '__ge__',\n",
       " '__getattribute__',\n",
       " '__getitem__',\n",
       " '__getnewargs__',\n",
       " '__gt__',\n",
       " '__hash__',\n",
       " '__init__',\n",
       " '__init_subclass__',\n",
       " '__iter__',\n",
       " '__le__',\n",
       " '__len__',\n",
       " '__lt__',\n",
       " '__mod__',\n",
       " '__mul__',\n",
       " '__ne__',\n",
       " '__new__',\n",
       " '__reduce__',\n",
       " '__reduce_ex__',\n",
       " '__repr__',\n",
       " '__rmod__',\n",
       " '__rmul__',\n",
       " '__setattr__',\n",
       " '__sizeof__',\n",
       " '__str__',\n",
       " '__subclasshook__',\n",
       " 'capitalize',\n",
       " 'casefold',\n",
       " 'center',\n",
       " 'count',\n",
       " 'encode',\n",
       " 'endswith',\n",
       " 'expandtabs',\n",
       " 'find',\n",
       " 'format',\n",
       " 'format_map',\n",
       " 'index',\n",
       " 'isalnum',\n",
       " 'isalpha',\n",
       " 'isascii',\n",
       " 'isdecimal',\n",
       " 'isdigit',\n",
       " 'isidentifier',\n",
       " 'islower',\n",
       " 'isnumeric',\n",
       " 'isprintable',\n",
       " 'isspace',\n",
       " 'istitle',\n",
       " 'isupper',\n",
       " 'join',\n",
       " 'ljust',\n",
       " 'lower',\n",
       " 'lstrip',\n",
       " 'maketrans',\n",
       " 'partition',\n",
       " 'replace',\n",
       " 'rfind',\n",
       " 'rindex',\n",
       " 'rjust',\n",
       " 'rpartition',\n",
       " 'rsplit',\n",
       " 'rstrip',\n",
       " 'split',\n",
       " 'splitlines',\n",
       " 'startswith',\n",
       " 'strip',\n",
       " 'swapcase',\n",
       " 'title',\n",
       " 'translate',\n",
       " 'upper',\n",
       " 'zfill']"
      ]
     },
     "execution_count": 14,
     "metadata": {},
     "output_type": "execute_result"
    }
   ],
   "source": [
    "dir(str)"
   ]
  },
  {
   "cell_type": "code",
   "execution_count": 15,
   "id": "58826830",
   "metadata": {},
   "outputs": [
    {
     "data": {
      "text/plain": [
       "['chinyere', 'chinazam', 'amaka', 'Efe', 'lagos']"
      ]
     },
     "execution_count": 15,
     "metadata": {},
     "output_type": "execute_result"
    }
   ],
   "source": [
    "name"
   ]
  },
  {
   "cell_type": "code",
   "execution_count": 16,
   "id": "fc734521",
   "metadata": {},
   "outputs": [
    {
     "data": {
      "text/plain": [
       "['chinyere', 'chinazam', 'amaka', 'Efe', 'lagos']"
      ]
     },
     "execution_count": 16,
     "metadata": {},
     "output_type": "execute_result"
    }
   ],
   "source": [
    "name[0::]"
   ]
  },
  {
   "cell_type": "code",
   "execution_count": 17,
   "id": "0c52213d",
   "metadata": {},
   "outputs": [
    {
     "data": {
      "text/plain": [
       "['chinyere', 'chinazam']"
      ]
     },
     "execution_count": 17,
     "metadata": {},
     "output_type": "execute_result"
    }
   ],
   "source": [
    "name[:2]"
   ]
  },
  {
   "cell_type": "code",
   "execution_count": 18,
   "id": "fe5b8afe",
   "metadata": {},
   "outputs": [
    {
     "data": {
      "text/plain": [
       "'chinazam'"
      ]
     },
     "execution_count": 18,
     "metadata": {},
     "output_type": "execute_result"
    }
   ],
   "source": [
    "name[-4]"
   ]
  },
  {
   "cell_type": "code",
   "execution_count": 20,
   "id": "3f5ef34a",
   "metadata": {},
   "outputs": [
    {
     "data": {
      "text/plain": [
       "['Nigeria', 17, True]"
      ]
     },
     "execution_count": 20,
     "metadata": {},
     "output_type": "execute_result"
    }
   ],
   "source": [
    "mylist =['Nigeria',17,True]\n",
    "mylist"
   ]
  },
  {
   "cell_type": "code",
   "execution_count": 22,
   "id": "0e270b73",
   "metadata": {},
   "outputs": [
    {
     "data": {
      "text/plain": [
       "[16.3, 56, 91]"
      ]
     },
     "execution_count": 22,
     "metadata": {},
     "output_type": "execute_result"
    }
   ],
   "source": [
    "age =[16.30,56,91]\n",
    "age"
   ]
  },
  {
   "cell_type": "code",
   "execution_count": 23,
   "id": "4a73a716",
   "metadata": {},
   "outputs": [],
   "source": [
    "name.append('Gift')"
   ]
  },
  {
   "cell_type": "code",
   "execution_count": 24,
   "id": "efb01244",
   "metadata": {},
   "outputs": [
    {
     "data": {
      "text/plain": [
       "['chinyere', 'chinazam', 'amaka', 'Efe', 'lagos', 'Gift']"
      ]
     },
     "execution_count": 24,
     "metadata": {},
     "output_type": "execute_result"
    }
   ],
   "source": [
    "name"
   ]
  },
  {
   "cell_type": "code",
   "execution_count": 25,
   "id": "e72ea103",
   "metadata": {},
   "outputs": [],
   "source": [
    "age.append(54)"
   ]
  },
  {
   "cell_type": "code",
   "execution_count": 26,
   "id": "6661cb79",
   "metadata": {},
   "outputs": [
    {
     "data": {
      "text/plain": [
       "[16.3, 56, 91, 54]"
      ]
     },
     "execution_count": 26,
     "metadata": {},
     "output_type": "execute_result"
    }
   ],
   "source": [
    "age"
   ]
  },
  {
   "cell_type": "code",
   "execution_count": 27,
   "id": "654627bb",
   "metadata": {},
   "outputs": [],
   "source": [
    "name.append('gift')"
   ]
  },
  {
   "cell_type": "code",
   "execution_count": 28,
   "id": "97ac6611",
   "metadata": {},
   "outputs": [
    {
     "data": {
      "text/plain": [
       "['chinyere', 'chinazam', 'amaka', 'Efe', 'lagos', 'Gift', 'gift']"
      ]
     },
     "execution_count": 28,
     "metadata": {},
     "output_type": "execute_result"
    }
   ],
   "source": [
    "name"
   ]
  },
  {
   "cell_type": "code",
   "execution_count": 29,
   "id": "e43fde84",
   "metadata": {},
   "outputs": [
    {
     "data": {
      "text/plain": [
       "['chinyere', 'chinazam', 'amaka', 'Efe', 'lagos', 'Gift', 'gift']"
      ]
     },
     "execution_count": 29,
     "metadata": {},
     "output_type": "execute_result"
    }
   ],
   "source": [
    "name.copy()"
   ]
  },
  {
   "cell_type": "code",
   "execution_count": 31,
   "id": "0d03fcdc",
   "metadata": {},
   "outputs": [
    {
     "data": {
      "text/plain": [
       "['chinyere', 'chinazam', 'amaka', 'Efe', 'lagos', 'Gift', 'gift']"
      ]
     },
     "execution_count": 31,
     "metadata": {},
     "output_type": "execute_result"
    }
   ],
   "source": [
    "name1 = name.copy()\n",
    "name1 "
   ]
  },
  {
   "cell_type": "markdown",
   "id": "f70a63b4",
   "metadata": {},
   "source": [
    "name1.clear()"
   ]
  },
  {
   "cell_type": "code",
   "execution_count": 32,
   "id": "c2d28749",
   "metadata": {},
   "outputs": [
    {
     "data": {
      "text/plain": [
       "['chinyere', 'chinazam', 'amaka', 'Efe', 'lagos', 'Gift', 'gift']"
      ]
     },
     "execution_count": 32,
     "metadata": {},
     "output_type": "execute_result"
    }
   ],
   "source": [
    "name1"
   ]
  },
  {
   "cell_type": "code",
   "execution_count": 34,
   "id": "8e64723d",
   "metadata": {},
   "outputs": [],
   "source": [
    "name1.clear()"
   ]
  },
  {
   "cell_type": "markdown",
   "id": "5cd7c9c6",
   "metadata": {},
   "source": [
    "name1"
   ]
  },
  {
   "cell_type": "code",
   "execution_count": 35,
   "id": "05566242",
   "metadata": {},
   "outputs": [
    {
     "data": {
      "text/plain": [
       "['chinyere', 'chinazam', 'amaka', 'Efe', 'lagos', 'Gift', 'gift']"
      ]
     },
     "execution_count": 35,
     "metadata": {},
     "output_type": "execute_result"
    }
   ],
   "source": [
    "name"
   ]
  },
  {
   "cell_type": "code",
   "execution_count": 36,
   "id": "be813911",
   "metadata": {},
   "outputs": [
    {
     "data": {
      "text/plain": [
       "1"
      ]
     },
     "execution_count": 36,
     "metadata": {},
     "output_type": "execute_result"
    }
   ],
   "source": [
    "name.count('Gift')"
   ]
  },
  {
   "cell_type": "code",
   "execution_count": 39,
   "id": "0dba0464",
   "metadata": {},
   "outputs": [
    {
     "data": {
      "text/plain": [
       "['chinyere',\n",
       " 'chinazam',\n",
       " 'amaka',\n",
       " 'Efe',\n",
       " 'lagos',\n",
       " 'Gift',\n",
       " 'gift',\n",
       " 'ike',\n",
       " 'john']"
      ]
     },
     "execution_count": 39,
     "metadata": {},
     "output_type": "execute_result"
    }
   ],
   "source": [
    "name.extend(['ike','john'])\n",
    "name"
   ]
  },
  {
   "cell_type": "code",
   "execution_count": 41,
   "id": "4c1f9e1e",
   "metadata": {},
   "outputs": [],
   "source": [
    "name.extend(['king','queen'])"
   ]
  },
  {
   "cell_type": "code",
   "execution_count": 42,
   "id": "810c9b36",
   "metadata": {},
   "outputs": [
    {
     "data": {
      "text/plain": [
       "['chinyere',\n",
       " 'chinazam',\n",
       " 'amaka',\n",
       " 'Efe',\n",
       " 'lagos',\n",
       " 'Gift',\n",
       " 'gift',\n",
       " 'ike',\n",
       " 'john',\n",
       " 'king',\n",
       " 'queen']"
      ]
     },
     "execution_count": 42,
     "metadata": {},
     "output_type": "execute_result"
    }
   ],
   "source": [
    "name"
   ]
  },
  {
   "cell_type": "code",
   "execution_count": 43,
   "id": "ab659f43",
   "metadata": {},
   "outputs": [
    {
     "data": {
      "text/plain": [
       "0"
      ]
     },
     "execution_count": 43,
     "metadata": {},
     "output_type": "execute_result"
    }
   ],
   "source": [
    "name.index('chinyere')"
   ]
  },
  {
   "cell_type": "code",
   "execution_count": 44,
   "id": "b4c74af2",
   "metadata": {},
   "outputs": [
    {
     "data": {
      "text/plain": [
       "9"
      ]
     },
     "execution_count": 44,
     "metadata": {},
     "output_type": "execute_result"
    }
   ],
   "source": [
    "name.index('king')"
   ]
  },
  {
   "cell_type": "code",
   "execution_count": 45,
   "id": "49d2f0e0",
   "metadata": {},
   "outputs": [
    {
     "data": {
      "text/plain": [
       "['chinyere',\n",
       " 'chinazam',\n",
       " 'amaka',\n",
       " 'ejike',\n",
       " 'Efe',\n",
       " 'lagos',\n",
       " 'Gift',\n",
       " 'gift',\n",
       " 'ike',\n",
       " 'john',\n",
       " 'king',\n",
       " 'queen']"
      ]
     },
     "execution_count": 45,
     "metadata": {},
     "output_type": "execute_result"
    }
   ],
   "source": [
    "name.insert(3,'ejike')\n",
    "name"
   ]
  },
  {
   "cell_type": "code",
   "execution_count": 46,
   "id": "3610a267",
   "metadata": {},
   "outputs": [
    {
     "data": {
      "text/plain": [
       "['chinyere',\n",
       " 'chinazam',\n",
       " 'amaka',\n",
       " 'ejike',\n",
       " 'Efe',\n",
       " 'lagos',\n",
       " 'Gift',\n",
       " 'gift',\n",
       " 'ike',\n",
       " 'john',\n",
       " 'king']"
      ]
     },
     "execution_count": 46,
     "metadata": {},
     "output_type": "execute_result"
    }
   ],
   "source": [
    "name.pop()\n",
    "name\n"
   ]
  },
  {
   "cell_type": "code",
   "execution_count": 47,
   "id": "6ecc482a",
   "metadata": {},
   "outputs": [],
   "source": [
    "name.reverse()"
   ]
  },
  {
   "cell_type": "code",
   "execution_count": 48,
   "id": "1a4bdb9b",
   "metadata": {},
   "outputs": [
    {
     "data": {
      "text/plain": [
       "['king',\n",
       " 'john',\n",
       " 'ike',\n",
       " 'gift',\n",
       " 'Gift',\n",
       " 'lagos',\n",
       " 'Efe',\n",
       " 'ejike',\n",
       " 'amaka',\n",
       " 'chinazam',\n",
       " 'chinyere']"
      ]
     },
     "execution_count": 48,
     "metadata": {},
     "output_type": "execute_result"
    }
   ],
   "source": [
    "name"
   ]
  },
  {
   "cell_type": "code",
   "execution_count": 49,
   "id": "f8456a5b",
   "metadata": {},
   "outputs": [],
   "source": [
    "name.sort()"
   ]
  },
  {
   "cell_type": "markdown",
   "id": "53e6bdcc",
   "metadata": {},
   "source": [
    "name"
   ]
  },
  {
   "cell_type": "code",
   "execution_count": 50,
   "id": "1ecc164a",
   "metadata": {},
   "outputs": [
    {
     "data": {
      "text/plain": [
       "['Efe',\n",
       " 'Gift',\n",
       " 'amaka',\n",
       " 'chinazam',\n",
       " 'chinyere',\n",
       " 'ejike',\n",
       " 'gift',\n",
       " 'ike',\n",
       " 'john',\n",
       " 'king',\n",
       " 'lagos']"
      ]
     },
     "execution_count": 50,
     "metadata": {},
     "output_type": "execute_result"
    }
   ],
   "source": [
    "name"
   ]
  },
  {
   "cell_type": "code",
   "execution_count": 51,
   "id": "56748dbd",
   "metadata": {},
   "outputs": [],
   "source": [
    "name.sort()"
   ]
  },
  {
   "cell_type": "code",
   "execution_count": 52,
   "id": "eb36a186",
   "metadata": {},
   "outputs": [
    {
     "data": {
      "text/plain": [
       "['Efe',\n",
       " 'Gift',\n",
       " 'amaka',\n",
       " 'chinazam',\n",
       " 'chinyere',\n",
       " 'ejike',\n",
       " 'gift',\n",
       " 'ike',\n",
       " 'john',\n",
       " 'king',\n",
       " 'lagos']"
      ]
     },
     "execution_count": 52,
     "metadata": {},
     "output_type": "execute_result"
    }
   ],
   "source": [
    "name"
   ]
  },
  {
   "cell_type": "markdown",
   "id": "b41d2029",
   "metadata": {},
   "source": [
    "## Dictionaries\n",
    "Dictonary is a type of python data type in which collections are unordered,and values are in pairs called the key-value pairs.\n",
    "This type of data type is useful when there is high volume of data, Braces {} (curly brackets are used to define dictionaries data type in python. A pair in the dictionary data type is an item which is represented as key value. The value and the key can be of any data type. "
   ]
  },
  {
   "cell_type": "code",
   "execution_count": 55,
   "id": "7a8e2edb",
   "metadata": {},
   "outputs": [
    {
     "data": {
      "text/plain": [
       "{'key1': 'value1', 'key2': 'value2', 'key3': 'value3'}"
      ]
     },
     "execution_count": 55,
     "metadata": {},
     "output_type": "execute_result"
    }
   ],
   "source": [
    "mydict = {'key1':'value1','key2':'value2','key3':'value3'}\n",
    "mydict"
   ]
  },
  {
   "cell_type": "code",
   "execution_count": null,
   "id": "898c6e88",
   "metadata": {},
   "outputs": [],
   "source": [
    "#json\n",
    "#java script object notation"
   ]
  },
  {
   "cell_type": "code",
   "execution_count": 56,
   "id": "a9de6b6c",
   "metadata": {},
   "outputs": [
    {
     "data": {
      "text/plain": [
       "{'dog': 'bingo', 'cat': 'busyy', 'goat': 'white', 'monkey': 'stone'}"
      ]
     },
     "execution_count": 56,
     "metadata": {},
     "output_type": "execute_result"
    }
   ],
   "source": [
    "animal = {'dog':'bingo','cat':'busyy','goat':'white','monkey':'stone'}\n",
    "animal"
   ]
  },
  {
   "cell_type": "code",
   "execution_count": 60,
   "id": "742a3df1",
   "metadata": {},
   "outputs": [
    {
     "data": {
      "text/plain": [
       "'bingo'"
      ]
     },
     "execution_count": 60,
     "metadata": {},
     "output_type": "execute_result"
    }
   ],
   "source": [
    "animal['dog']"
   ]
  },
  {
   "cell_type": "code",
   "execution_count": 71,
   "id": "3daa185b",
   "metadata": {},
   "outputs": [
    {
     "data": {
      "text/plain": [
       "dict"
      ]
     },
     "execution_count": 71,
     "metadata": {},
     "output_type": "execute_result"
    }
   ],
   "source": [
    "type(animal)"
   ]
  },
  {
   "cell_type": "code",
   "execution_count": 86,
   "id": "48883d86",
   "metadata": {},
   "outputs": [
    {
     "data": {
      "text/plain": [
       "{'name': 'chinyere',\n",
       " 'address': '40 ikeja lagos',\n",
       " 'type': 'online',\n",
       " 'age': '20',\n",
       " 'height': 'tall'}"
      ]
     },
     "execution_count": 86,
     "metadata": {},
     "output_type": "execute_result"
    }
   ],
   "source": [
    "customer = {'name':'chinyere','address':'40 ikeja lagos','type':'online','age':'20','height':'tall'}\n",
    "customer"
   ]
  },
  {
   "cell_type": "code",
   "execution_count": 73,
   "id": "6f3d4e0b",
   "metadata": {},
   "outputs": [
    {
     "data": {
      "text/plain": [
       "dict"
      ]
     },
     "execution_count": 73,
     "metadata": {},
     "output_type": "execute_result"
    }
   ],
   "source": [
    "type(customer)"
   ]
  },
  {
   "cell_type": "code",
   "execution_count": 84,
   "id": "dee314a9",
   "metadata": {},
   "outputs": [
    {
     "data": {
      "text/plain": [
       "'busyy'"
      ]
     },
     "execution_count": 84,
     "metadata": {},
     "output_type": "execute_result"
    }
   ],
   "source": [
    "animal['cat']"
   ]
  },
  {
   "cell_type": "code",
   "execution_count": 87,
   "id": "1dcdfd8b",
   "metadata": {},
   "outputs": [
    {
     "data": {
      "text/plain": [
       "'chinyere'"
      ]
     },
     "execution_count": 87,
     "metadata": {},
     "output_type": "execute_result"
    }
   ],
   "source": [
    "customer['name']"
   ]
  },
  {
   "cell_type": "code",
   "execution_count": 88,
   "id": "4b26fe5d",
   "metadata": {},
   "outputs": [
    {
     "data": {
      "text/plain": [
       "'20'"
      ]
     },
     "execution_count": 88,
     "metadata": {},
     "output_type": "execute_result"
    }
   ],
   "source": [
    "customer['age']"
   ]
  },
  {
   "cell_type": "code",
   "execution_count": 93,
   "id": "cc7b18a3",
   "metadata": {},
   "outputs": [
    {
     "data": {
      "text/plain": [
       "{'cars': ['Toyota', 'camry', 'Benz'],\n",
       " 'colours': ['yellow', 'black', 'white'],\n",
       " 'years': ['2002', '2014', '2016']}"
      ]
     },
     "execution_count": 93,
     "metadata": {},
     "output_type": "execute_result"
    }
   ],
   "source": [
    "materials ={'cars':['Toyota','camry','Benz'],'colours':['yellow','black','white'],'years':['2002','2014','2016']}\n",
    "materials"
   ]
  },
  {
   "cell_type": "code",
   "execution_count": 96,
   "id": "85eb7857",
   "metadata": {},
   "outputs": [
    {
     "data": {
      "text/plain": [
       "['Toyota', 'camry', 'Benz']"
      ]
     },
     "execution_count": 96,
     "metadata": {},
     "output_type": "execute_result"
    }
   ],
   "source": [
    "materials['cars']"
   ]
  },
  {
   "cell_type": "code",
   "execution_count": 97,
   "id": "e5ca911f",
   "metadata": {},
   "outputs": [
    {
     "data": {
      "text/plain": [
       "['yellow', 'black', 'white']"
      ]
     },
     "execution_count": 97,
     "metadata": {},
     "output_type": "execute_result"
    }
   ],
   "source": [
    "materials['colours']"
   ]
  },
  {
   "cell_type": "code",
   "execution_count": 101,
   "id": "0a37797e",
   "metadata": {},
   "outputs": [
    {
     "data": {
      "text/plain": [
       "'white'"
      ]
     },
     "execution_count": 101,
     "metadata": {},
     "output_type": "execute_result"
    }
   ],
   "source": [
    "materials['colours'][2]"
   ]
  },
  {
   "cell_type": "code",
   "execution_count": 102,
   "id": "9294af24",
   "metadata": {},
   "outputs": [
    {
     "data": {
      "text/plain": [
       "'camry'"
      ]
     },
     "execution_count": 102,
     "metadata": {},
     "output_type": "execute_result"
    }
   ],
   "source": [
    "materials['cars'][1]"
   ]
  },
  {
   "cell_type": "code",
   "execution_count": 273,
   "id": "93f065e6",
   "metadata": {},
   "outputs": [
    {
     "data": {
      "text/plain": [
       "3"
      ]
     },
     "execution_count": 273,
     "metadata": {},
     "output_type": "execute_result"
    }
   ],
   "source": [
    "len(materials)"
   ]
  },
  {
   "cell_type": "code",
   "execution_count": 103,
   "id": "5d3792a9",
   "metadata": {},
   "outputs": [
    {
     "data": {
      "text/plain": [
       "{}"
      ]
     },
     "execution_count": 103,
     "metadata": {},
     "output_type": "execute_result"
    }
   ],
   "source": [
    "mydict1 ={}\n",
    "mydict1"
   ]
  },
  {
   "cell_type": "code",
   "execution_count": 106,
   "id": "41f84088",
   "metadata": {},
   "outputs": [],
   "source": [
    "mydict1['name'] ='James'\n",
    "mydict1['location']= 'Lagos'\n",
    "mydict1['Dress'] = 'white'"
   ]
  },
  {
   "cell_type": "code",
   "execution_count": 107,
   "id": "cb3634b2",
   "metadata": {},
   "outputs": [
    {
     "data": {
      "text/plain": [
       "{'name': 'James', 'location': 'Lagos', 'Dress': 'white'}"
      ]
     },
     "execution_count": 107,
     "metadata": {},
     "output_type": "execute_result"
    }
   ],
   "source": [
    "mydict1"
   ]
  },
  {
   "cell_type": "code",
   "execution_count": 110,
   "id": "a224b401",
   "metadata": {},
   "outputs": [],
   "source": [
    "mydict1['cloth'] ='Gown'"
   ]
  },
  {
   "cell_type": "code",
   "execution_count": 111,
   "id": "f372c1a0",
   "metadata": {},
   "outputs": [
    {
     "data": {
      "text/plain": [
       "{'name': 'James', 'location': 'Lagos', 'Dress': 'white', 'cloth': 'Gown'}"
      ]
     },
     "execution_count": 111,
     "metadata": {},
     "output_type": "execute_result"
    }
   ],
   "source": [
    "mydict1"
   ]
  },
  {
   "cell_type": "code",
   "execution_count": 115,
   "id": "a8bdfc52",
   "metadata": {},
   "outputs": [
    {
     "data": {
      "text/plain": [
       "['__class__',\n",
       " '__contains__',\n",
       " '__delattr__',\n",
       " '__delitem__',\n",
       " '__dir__',\n",
       " '__doc__',\n",
       " '__eq__',\n",
       " '__format__',\n",
       " '__ge__',\n",
       " '__getattribute__',\n",
       " '__getitem__',\n",
       " '__gt__',\n",
       " '__hash__',\n",
       " '__init__',\n",
       " '__init_subclass__',\n",
       " '__iter__',\n",
       " '__le__',\n",
       " '__len__',\n",
       " '__lt__',\n",
       " '__ne__',\n",
       " '__new__',\n",
       " '__reduce__',\n",
       " '__reduce_ex__',\n",
       " '__repr__',\n",
       " '__reversed__',\n",
       " '__setattr__',\n",
       " '__setitem__',\n",
       " '__sizeof__',\n",
       " '__str__',\n",
       " '__subclasshook__',\n",
       " 'clear',\n",
       " 'copy',\n",
       " 'fromkeys',\n",
       " 'get',\n",
       " 'items',\n",
       " 'keys',\n",
       " 'pop',\n",
       " 'popitem',\n",
       " 'setdefault',\n",
       " 'update',\n",
       " 'values']"
      ]
     },
     "execution_count": 115,
     "metadata": {},
     "output_type": "execute_result"
    }
   ],
   "source": [
    "dir(dict)"
   ]
  },
  {
   "cell_type": "code",
   "execution_count": 117,
   "id": "6b94c354",
   "metadata": {},
   "outputs": [
    {
     "data": {
      "text/plain": [
       "{'Fruit': 'mango', 'drink': 'fanta', 'food': 'beans'}"
      ]
     },
     "execution_count": 117,
     "metadata": {},
     "output_type": "execute_result"
    }
   ],
   "source": [
    "mydict4 ={'Fruit':'mango','drink':'fanta','food':'beans'}\n",
    "mydict4"
   ]
  },
  {
   "cell_type": "code",
   "execution_count": 118,
   "id": "a360b6d0",
   "metadata": {},
   "outputs": [
    {
     "data": {
      "text/plain": [
       "{'party': 'labour'}"
      ]
     },
     "execution_count": 118,
     "metadata": {},
     "output_type": "execute_result"
    }
   ],
   "source": [
    "mydict5 ={'party':'labour'}\n",
    "mydict5"
   ]
  },
  {
   "cell_type": "code",
   "execution_count": 123,
   "id": "2d8180a0",
   "metadata": {},
   "outputs": [],
   "source": [
    "mydict4.update(mydict5)"
   ]
  },
  {
   "cell_type": "code",
   "execution_count": 124,
   "id": "a9974de3",
   "metadata": {},
   "outputs": [
    {
     "data": {
      "text/plain": [
       "{'Fruit': 'mango', 'drink': 'fanta', 'food': 'beans', 'party': 'labour'}"
      ]
     },
     "execution_count": 124,
     "metadata": {},
     "output_type": "execute_result"
    }
   ],
   "source": [
    "mydict4"
   ]
  },
  {
   "cell_type": "code",
   "execution_count": 130,
   "id": "7488c04f",
   "metadata": {},
   "outputs": [
    {
     "name": "stdout",
     "output_type": "stream",
     "text": [
      "what is your score in the first test?: 8\n",
      "what is your score in the second test?: 9\n",
      "what is your score in the atendance?: 6\n",
      "what is your score in the exam?: 56\n",
      "{'FirstTest': 8, 'SecondTest': 9, 'Attendance': 6, 'Examination': 56}\n",
      "The student's final result is 79\n"
     ]
    }
   ],
   "source": [
    "#student score\n",
    "scores = {}\n",
    "first_test = int(input('what is your score in the first test?: '))\n",
    "second_test = int(input('what is your score in the second test?: '))\n",
    "attd = int(input('what is your score in the atendance?: '))\n",
    "exam = int(input('what is your score in the exam?: '))\n",
    "\n",
    "total_score = first_test + second_test + attd + exam\n",
    "\n",
    "\n",
    "scores['FirstTest'] = first_test\n",
    "scores['SecondTest'] = second_test\n",
    "scores['Attendance'] = attd\n",
    "scores['Examination'] = exam\n",
    "\n",
    "print(scores)\n",
    "print(f'The student\\'s final result is {total_score}')\n"
   ]
  },
  {
   "cell_type": "code",
   "execution_count": 133,
   "id": "24e13a5d",
   "metadata": {},
   "outputs": [
    {
     "data": {
      "text/plain": [
       "dict_keys(['FirstTest', 'SecondTest', 'Attendance', 'Examination'])"
      ]
     },
     "execution_count": 133,
     "metadata": {},
     "output_type": "execute_result"
    }
   ],
   "source": [
    "scores.keys()"
   ]
  },
  {
   "cell_type": "code",
   "execution_count": 134,
   "id": "6e2ec434",
   "metadata": {},
   "outputs": [
    {
     "data": {
      "text/plain": [
       "dict_values([8, 9, 6, 56])"
      ]
     },
     "execution_count": 134,
     "metadata": {},
     "output_type": "execute_result"
    }
   ],
   "source": [
    "scores.values()"
   ]
  },
  {
   "cell_type": "code",
   "execution_count": 135,
   "id": "a22d54e7",
   "metadata": {},
   "outputs": [
    {
     "data": {
      "text/plain": [
       "dict_items([('FirstTest', 8), ('SecondTest', 9), ('Attendance', 6), ('Examination', 56)])"
      ]
     },
     "execution_count": 135,
     "metadata": {},
     "output_type": "execute_result"
    }
   ],
   "source": [
    "scores.items()"
   ]
  },
  {
   "cell_type": "code",
   "execution_count": null,
   "id": "f7e5c608",
   "metadata": {},
   "outputs": [],
   "source": []
  },
  {
   "cell_type": "markdown",
   "id": "fe42c36b",
   "metadata": {},
   "source": [
    "## Tuple\n",
    "A tuple is a sequence of items that are in order, and it is not possibld to modify the tuples.\n",
    "#### The main difference between tuple and list is that tuple are immutable, which means that it cannot be altered.\n",
    "- Tuples are generally faster than the list datatype in a python because it cannot be changed or modified like list datatype.\n",
    "- The primary use of Tuples is to write-protect data.\n",
    "- Tuples can be represented by using parentheses(), and\n",
    "- commas are used to seperate the items.\n",
    "Days of the week, Months of the year,DOB,etc"
   ]
  },
  {
   "cell_type": "code",
   "execution_count": 136,
   "id": "3192c2dd",
   "metadata": {},
   "outputs": [
    {
     "data": {
      "text/plain": [
       "['Efe',\n",
       " 'Gift',\n",
       " 'amaka',\n",
       " 'chinazam',\n",
       " 'chinyere',\n",
       " 'ejike',\n",
       " 'gift',\n",
       " 'ike',\n",
       " 'john',\n",
       " 'king',\n",
       " 'lagos']"
      ]
     },
     "execution_count": 136,
     "metadata": {},
     "output_type": "execute_result"
    }
   ],
   "source": [
    "name"
   ]
  },
  {
   "cell_type": "code",
   "execution_count": 138,
   "id": "b8abb730",
   "metadata": {},
   "outputs": [],
   "source": [
    "name[1] = 'Amanda'"
   ]
  },
  {
   "cell_type": "code",
   "execution_count": 139,
   "id": "2ea6e317",
   "metadata": {},
   "outputs": [
    {
     "data": {
      "text/plain": [
       "['Efe',\n",
       " 'Amanda',\n",
       " 'amaka',\n",
       " 'chinazam',\n",
       " 'chinyere',\n",
       " 'ejike',\n",
       " 'gift',\n",
       " 'ike',\n",
       " 'john',\n",
       " 'king',\n",
       " 'lagos']"
      ]
     },
     "execution_count": 139,
     "metadata": {},
     "output_type": "execute_result"
    }
   ],
   "source": [
    "name"
   ]
  },
  {
   "cell_type": "code",
   "execution_count": 151,
   "id": "91a5e1d8",
   "metadata": {},
   "outputs": [
    {
     "data": {
      "text/plain": [
       "(1, 2, 3, 4, 5)"
      ]
     },
     "execution_count": 151,
     "metadata": {},
     "output_type": "execute_result"
    }
   ],
   "source": [
    "mytuple = (1,2,3,4,5)\n",
    "mytuple"
   ]
  },
  {
   "cell_type": "code",
   "execution_count": 152,
   "id": "ab46d149",
   "metadata": {},
   "outputs": [
    {
     "data": {
      "text/plain": [
       "tuple"
      ]
     },
     "execution_count": 152,
     "metadata": {},
     "output_type": "execute_result"
    }
   ],
   "source": [
    "type(mytuple)"
   ]
  },
  {
   "cell_type": "code",
   "execution_count": 153,
   "id": "9bcfc84f",
   "metadata": {},
   "outputs": [
    {
     "data": {
      "text/plain": [
       "4"
      ]
     },
     "execution_count": 153,
     "metadata": {},
     "output_type": "execute_result"
    }
   ],
   "source": [
    "mytuple[3]"
   ]
  },
  {
   "cell_type": "code",
   "execution_count": 154,
   "id": "eb19c16d",
   "metadata": {},
   "outputs": [
    {
     "ename": "TypeError",
     "evalue": "'tuple' object does not support item assignment",
     "output_type": "error",
     "traceback": [
      "\u001b[1;31m---------------------------------------------------------------------------\u001b[0m",
      "\u001b[1;31mTypeError\u001b[0m                                 Traceback (most recent call last)",
      "\u001b[1;32m<ipython-input-154-626dfda4a94a>\u001b[0m in \u001b[0;36m<module>\u001b[1;34m\u001b[0m\n\u001b[1;32m----> 1\u001b[1;33m \u001b[0mmytuple\u001b[0m\u001b[1;33m[\u001b[0m\u001b[1;36m3\u001b[0m\u001b[1;33m]\u001b[0m\u001b[1;33m=\u001b[0m \u001b[1;36m10\u001b[0m\u001b[1;33m\u001b[0m\u001b[1;33m\u001b[0m\u001b[0m\n\u001b[0m",
      "\u001b[1;31mTypeError\u001b[0m: 'tuple' object does not support item assignment"
     ]
    }
   ],
   "source": [
    "mytuple[3] = 10"
   ]
  },
  {
   "cell_type": "code",
   "execution_count": 155,
   "id": "3ae26b87",
   "metadata": {},
   "outputs": [
    {
     "data": {
      "text/plain": [
       "[1, 2, 3, 4, 5, 6]"
      ]
     },
     "execution_count": 155,
     "metadata": {},
     "output_type": "execute_result"
    }
   ],
   "source": [
    "mylist = [1,2,3,4,5,6]\n",
    "mylist"
   ]
  },
  {
   "cell_type": "code",
   "execution_count": 157,
   "id": "d8920736",
   "metadata": {},
   "outputs": [],
   "source": [
    "mylist[5] = 10"
   ]
  },
  {
   "cell_type": "code",
   "execution_count": 158,
   "id": "6003eb3a",
   "metadata": {},
   "outputs": [
    {
     "data": {
      "text/plain": [
       "[1, 2, 3, 4, 5, 10]"
      ]
     },
     "execution_count": 158,
     "metadata": {},
     "output_type": "execute_result"
    }
   ],
   "source": [
    "mylist"
   ]
  },
  {
   "cell_type": "code",
   "execution_count": 159,
   "id": "a13af0a0",
   "metadata": {},
   "outputs": [
    {
     "data": {
      "text/plain": [
       "6"
      ]
     },
     "execution_count": 159,
     "metadata": {},
     "output_type": "execute_result"
    }
   ],
   "source": [
    "len(mylist)"
   ]
  },
  {
   "cell_type": "code",
   "execution_count": 160,
   "id": "2bfbb1ec",
   "metadata": {},
   "outputs": [
    {
     "data": {
      "text/plain": [
       "3"
      ]
     },
     "execution_count": 160,
     "metadata": {},
     "output_type": "execute_result"
    }
   ],
   "source": [
    "len(mydict)"
   ]
  },
  {
   "cell_type": "code",
   "execution_count": 161,
   "id": "a7dd16fe",
   "metadata": {},
   "outputs": [
    {
     "data": {
      "text/plain": [
       "5"
      ]
     },
     "execution_count": 161,
     "metadata": {},
     "output_type": "execute_result"
    }
   ],
   "source": [
    "len(mytuple)"
   ]
  },
  {
   "cell_type": "markdown",
   "id": "f44979fc",
   "metadata": {},
   "source": [
    "## Set\n",
    "A set is a collection of unique items that are not inorder is called set\n",
    "Braces {} are used to defined set and a comma is used to separte values.\n",
    " One will find that the items are unodered in a set data type\n",
    " - Duplicates are eliminated in a set and set only keep unique values.\n",
    " - Operations like intersection and union can be perfomrmed on two sets."
   ]
  },
  {
   "cell_type": "code",
   "execution_count": 162,
   "id": "1ac12584",
   "metadata": {},
   "outputs": [
    {
     "data": {
      "text/plain": [
       "{1, 3, 4, 5, 6, 7, 8, 9, 10, 16, 22, 55}"
      ]
     },
     "execution_count": 162,
     "metadata": {},
     "output_type": "execute_result"
    }
   ],
   "source": [
    "myset = {1,1,1,1,16,3,3,6,3,7,8,9,10,22,4,5,55,}\n",
    "myset"
   ]
  },
  {
   "cell_type": "code",
   "execution_count": 163,
   "id": "e4282781",
   "metadata": {},
   "outputs": [],
   "source": [
    "myset.add(11)"
   ]
  },
  {
   "cell_type": "code",
   "execution_count": 164,
   "id": "66bc7731",
   "metadata": {},
   "outputs": [
    {
     "data": {
      "text/plain": [
       "{1, 3, 4, 5, 6, 7, 8, 9, 10, 11, 16, 22, 55}"
      ]
     },
     "execution_count": 164,
     "metadata": {},
     "output_type": "execute_result"
    }
   ],
   "source": [
    "myset"
   ]
  },
  {
   "cell_type": "code",
   "execution_count": 167,
   "id": "29ffa2cd",
   "metadata": {},
   "outputs": [
    {
     "name": "stdout",
     "output_type": "stream",
     "text": [
      "{1, 3, 5, 7, 9}\n",
      "{2, 4, 6, 8, 10}\n"
     ]
    }
   ],
   "source": [
    "newset1 ={1,3,5,7,9}\n",
    "newset2 = {2,4,6,8,10}\n",
    "print(newset1)\n",
    "print(newset2)"
   ]
  },
  {
   "cell_type": "code",
   "execution_count": 169,
   "id": "68ff4d9c",
   "metadata": {},
   "outputs": [
    {
     "data": {
      "text/plain": [
       "{1, 3, 5, 7, 9}"
      ]
     },
     "execution_count": 169,
     "metadata": {},
     "output_type": "execute_result"
    }
   ],
   "source": [
    "# intersection returns element that are common to both set\n",
    "myset.intersection(newset1)"
   ]
  },
  {
   "cell_type": "code",
   "execution_count": 171,
   "id": "1291c174",
   "metadata": {},
   "outputs": [
    {
     "data": {
      "text/plain": [
       "{4, 6, 8, 10}"
      ]
     },
     "execution_count": 171,
     "metadata": {},
     "output_type": "execute_result"
    }
   ],
   "source": [
    "myset.intersection(newset2)"
   ]
  },
  {
   "cell_type": "code",
   "execution_count": 172,
   "id": "8dd07f8f",
   "metadata": {},
   "outputs": [
    {
     "data": {
      "text/plain": [
       "{1, 3, 4, 5, 6, 7, 8, 9, 10, 11, 16, 22, 55}"
      ]
     },
     "execution_count": 172,
     "metadata": {},
     "output_type": "execute_result"
    }
   ],
   "source": [
    "# union return all elements in each individual set\n",
    "myset.union(newset1)"
   ]
  },
  {
   "cell_type": "code",
   "execution_count": 173,
   "id": "115fe8f4",
   "metadata": {},
   "outputs": [
    {
     "data": {
      "text/plain": [
       "{4, 6, 8, 10, 11, 16, 22, 55}"
      ]
     },
     "execution_count": 173,
     "metadata": {},
     "output_type": "execute_result"
    }
   ],
   "source": [
    "myset.difference(newset1)"
   ]
  },
  {
   "cell_type": "code",
   "execution_count": 174,
   "id": "76f0637c",
   "metadata": {},
   "outputs": [
    {
     "name": "stdout",
     "output_type": "stream",
     "text": [
      "{1, 2, 3, 4, 6}\n",
      "{33, 1, 6, 7, 13, 25}\n"
     ]
    }
   ],
   "source": [
    "myset6 = {1,2,3,4,6}\n",
    "myset7 = {33,13,25,7,6,1}\n",
    "print(myset6)\n",
    "print(myset7)"
   ]
  },
  {
   "cell_type": "code",
   "execution_count": 176,
   "id": "3a539fdd",
   "metadata": {},
   "outputs": [],
   "source": [
    "myset6.difference_update(myset7)"
   ]
  },
  {
   "cell_type": "code",
   "execution_count": 177,
   "id": "4cee6843",
   "metadata": {},
   "outputs": [
    {
     "data": {
      "text/plain": [
       "{2, 3, 4}"
      ]
     },
     "execution_count": 177,
     "metadata": {},
     "output_type": "execute_result"
    }
   ],
   "source": [
    "myset6"
   ]
  },
  {
   "cell_type": "code",
   "execution_count": 178,
   "id": "9f013706",
   "metadata": {},
   "outputs": [],
   "source": [
    "myset7.difference_update(myset6)"
   ]
  },
  {
   "cell_type": "code",
   "execution_count": 180,
   "id": "95ccb99f",
   "metadata": {},
   "outputs": [
    {
     "data": {
      "text/plain": [
       "{1, 6, 7, 13, 25, 33}"
      ]
     },
     "execution_count": 180,
     "metadata": {},
     "output_type": "execute_result"
    }
   ],
   "source": [
    "myset7"
   ]
  },
  {
   "cell_type": "markdown",
   "id": "65f2c38b",
   "metadata": {},
   "source": [
    "## Booleans\n",
    "There can be only two types of value in Boolean datatype of Python, that is True or False"
   ]
  },
  {
   "cell_type": "code",
   "execution_count": 181,
   "id": "4af3eb7a",
   "metadata": {},
   "outputs": [
    {
     "data": {
      "text/plain": [
       "True"
      ]
     },
     "execution_count": 181,
     "metadata": {},
     "output_type": "execute_result"
    }
   ],
   "source": [
    "# equal to\n",
    "1==1"
   ]
  },
  {
   "cell_type": "code",
   "execution_count": 182,
   "id": "ac07022f",
   "metadata": {},
   "outputs": [
    {
     "ename": "SyntaxError",
     "evalue": "cannot assign to literal (<ipython-input-182-61326171a949>, line 2)",
     "output_type": "error",
     "traceback": [
      "\u001b[1;36m  File \u001b[1;32m\"<ipython-input-182-61326171a949>\"\u001b[1;36m, line \u001b[1;32m2\u001b[0m\n\u001b[1;33m    1 =1\u001b[0m\n\u001b[1;37m    ^\u001b[0m\n\u001b[1;31mSyntaxError\u001b[0m\u001b[1;31m:\u001b[0m cannot assign to literal\n"
     ]
    }
   ],
   "source": [
    "# variabel assignment\n",
    "1 =1"
   ]
  },
  {
   "cell_type": "code",
   "execution_count": 183,
   "id": "ab97645d",
   "metadata": {},
   "outputs": [
    {
     "data": {
      "text/plain": [
       "False"
      ]
     },
     "execution_count": 183,
     "metadata": {},
     "output_type": "execute_result"
    }
   ],
   "source": [
    "1 ==2"
   ]
  },
  {
   "cell_type": "code",
   "execution_count": 184,
   "id": "1f4dda07",
   "metadata": {},
   "outputs": [
    {
     "data": {
      "text/plain": [
       "True"
      ]
     },
     "execution_count": 184,
     "metadata": {},
     "output_type": "execute_result"
    }
   ],
   "source": [
    "# less than or equal to\n",
    "\n",
    "1 <= 2"
   ]
  },
  {
   "cell_type": "code",
   "execution_count": 185,
   "id": "c475269e",
   "metadata": {},
   "outputs": [
    {
     "data": {
      "text/plain": [
       "bool"
      ]
     },
     "execution_count": 185,
     "metadata": {},
     "output_type": "execute_result"
    }
   ],
   "source": [
    "type(1==2)"
   ]
  },
  {
   "cell_type": "code",
   "execution_count": 186,
   "id": "95175201",
   "metadata": {},
   "outputs": [
    {
     "data": {
      "text/plain": [
       "False"
      ]
     },
     "execution_count": 186,
     "metadata": {},
     "output_type": "execute_result"
    }
   ],
   "source": [
    "10 >= 20"
   ]
  },
  {
   "cell_type": "code",
   "execution_count": 199,
   "id": "06b2fb32",
   "metadata": {},
   "outputs": [
    {
     "name": "stdout",
     "output_type": "stream",
     "text": [
      "Your name is chinyere\n"
     ]
    }
   ],
   "source": [
    "name = 'chinyere'\n",
    "\n",
    "if name == 'chinyere':\n",
    "    print(f'Your name is {name}')\n",
    "else:\n",
    "    print(f'Your name is not what we expect')"
   ]
  },
  {
   "cell_type": "code",
   "execution_count": 200,
   "id": "86ba1b79",
   "metadata": {},
   "outputs": [
    {
     "name": "stdout",
     "output_type": "stream",
     "text": [
      " You are not a member of this class\n"
     ]
    }
   ],
   "source": [
    "name = 'Tope'\n",
    "if name == 'chinyere':\n",
    "    print(f'You are a member of this class {name}')\n",
    "else:\n",
    "    print(f' You are not a member of this class')"
   ]
  },
  {
   "cell_type": "code",
   "execution_count": 201,
   "id": "c5213b34",
   "metadata": {},
   "outputs": [
    {
     "name": "stdout",
     "output_type": "stream",
     "text": [
      "Your name is not what we expect\n"
     ]
    }
   ],
   "source": [
    "name = 'chinyere'\n",
    "\n",
    "if name == 'chinazam':\n",
    "    print(f'Your name is {name}')\n",
    "else:\n",
    "    print(f'Your name is not what we expect')"
   ]
  },
  {
   "cell_type": "code",
   "execution_count": 202,
   "id": "78b39272",
   "metadata": {},
   "outputs": [
    {
     "name": "stdout",
     "output_type": "stream",
     "text": [
      "Your name is chinyere\n"
     ]
    }
   ],
   "source": [
    "name = 'chinyere'\n",
    "\n",
    "if name != 'chinazam':\n",
    "    print(f'Your name is {name}')\n",
    "else:\n",
    "    print(f'Your name is not what we expect')"
   ]
  },
  {
   "cell_type": "markdown",
   "id": "d8f3652d",
   "metadata": {},
   "source": [
    "## Comparsion Operators\n",
    "Copmarsion operatrs are used to comapre two values.\n",
    "- == Equal to\n",
    "- != Not equal to.\n",
    "- #> Greater than\n",
    "- #>= Greater than or equal to.\n",
    "- < Less than\n",
    "- <== Less than or equal to"
   ]
  },
  {
   "cell_type": "code",
   "execution_count": null,
   "id": "313d727b",
   "metadata": {},
   "outputs": [],
   "source": []
  },
  {
   "cell_type": "markdown",
   "id": "fb517475",
   "metadata": {},
   "source": [
    "## Conditional Statements\n",
    "Conditional statements use conditions to modify how your functions runs.\n",
    "\n",
    "They check the value of a condition, and if the condition evaluates to true, then a certain block of code is executed.( Otherwise if the condition is false then the code will not run)\n"
   ]
  },
  {
   "cell_type": "code",
   "execution_count": null,
   "id": "f9cfb214",
   "metadata": {},
   "outputs": [],
   "source": []
  },
  {
   "cell_type": "markdown",
   "id": "ce6d0c5a",
   "metadata": {},
   "source": [
    "### If, Elif, Else statement\n",
    "The python If statement is the same as it is with other programming languages. It executes a set of statement conditionally, based on the value of a logical expression.\n",
    "\n",
    "In python if....else statement, If has two blocks, one following the expression ans the other following the else clause.\n",
    "\n",
    "The If-Elif-Else statement,is used to conditionally execute a statement or a block of statements.\n",
    "\n",
    "Conditions can be True or False, execute one thing when the condition id true, something else when the condition is False"
   ]
  },
  {
   "cell_type": "code",
   "execution_count": 206,
   "id": "621f6d09",
   "metadata": {},
   "outputs": [
    {
     "name": "stdout",
     "output_type": "stream",
     "text": [
      "You are not welcome to our house chinyere\n"
     ]
    }
   ],
   "source": [
    "name = 'chinyere'\n",
    "if name == 'Chinazam':\n",
    "    print(f'You are welcome to our house{name}')\n",
    "else:\n",
    "    print(f'You are not welcome to our house {name}')"
   ]
  },
  {
   "cell_type": "code",
   "execution_count": 215,
   "id": "23ebb62b",
   "metadata": {},
   "outputs": [
    {
     "name": "stdout",
     "output_type": "stream",
     "text": [
      "what is your name?chinyere\n",
      "You are not a member of this class chinyere\n"
     ]
    }
   ],
   "source": [
    "name  =  input('what is your name?')\n",
    "\n",
    "if name == 'Gift':\n",
    "    print(f'You are a member of this class{name}')\n",
    "else:\n",
    "    print(f'You are not a member of this class {name}')"
   ]
  },
  {
   "cell_type": "code",
   "execution_count": 217,
   "id": "4b0cef5f",
   "metadata": {},
   "outputs": [
    {
     "name": "stdout",
     "output_type": "stream",
     "text": [
      "what is your name?Gift\n",
      "You are a member of this class Gift\n"
     ]
    }
   ],
   "source": [
    "name  =  input('what is your name?')\n",
    "\n",
    "if name == 'Gift':\n",
    "    print(f'You are a member of this class {name}')\n",
    "else:\n",
    "    print(f'You are not a member of this class {name}')"
   ]
  },
  {
   "cell_type": "code",
   "execution_count": 218,
   "id": "0fab0579",
   "metadata": {},
   "outputs": [
    {
     "name": "stdout",
     "output_type": "stream",
     "text": [
      "what is your name ?Debo\n",
      "welcome to our faculty Debo\n"
     ]
    }
   ],
   "source": [
    "name = input('what is your name ?')\n",
    "if name  == 'chinyere':\n",
    "    print(f'You are welcome to our kingdom{name}')\n",
    "elif name == ' Damilola':\n",
    "    print(f'You are welcome to our palace{name}')\n",
    "elif name == 'Igwe':\n",
    "    print(f'welcome to our village {name}')\n",
    "elif name == 'Eniola':\n",
    "    print(f'You are welcome to our department{name}')\n",
    "elif name == 'Debo':\n",
    "    print(f'welcome to our faculty {name}')\n",
    "else:\n",
    "    print('we seem not to recognise you {name}')\n"
   ]
  },
  {
   "cell_type": "code",
   "execution_count": 219,
   "id": "bb46873f",
   "metadata": {},
   "outputs": [
    {
     "name": "stdout",
     "output_type": "stream",
     "text": [
      "what is your name ?gift\n",
      "we seem not to recognise you {name}\n"
     ]
    }
   ],
   "source": [
    "name = input('what is your name ?')\n",
    "if name  == 'chinyere':\n",
    "    print(f'You are welcome to our kingdom{name}')\n",
    "elif name == ' Damilola':\n",
    "    print(f'You are welcome to our palace{name}')\n",
    "elif name == 'Igwe':\n",
    "    print(f'welcome to our village {name}')\n",
    "elif name == 'Eniola':\n",
    "    print(f'You are welcome to our department{name}')\n",
    "elif name == 'Debo':\n",
    "    print(f'welcome to our faculty {name}')\n",
    "else:\n",
    "    print('we seem not to recognise you {name}')\n"
   ]
  },
  {
   "cell_type": "code",
   "execution_count": 220,
   "id": "7ac9b2c1",
   "metadata": {},
   "outputs": [
    {
     "name": "stdout",
     "output_type": "stream",
     "text": [
      "what is your name ?gift\n",
      "we seem not to recognise you gift\n"
     ]
    }
   ],
   "source": [
    "name = input('what is your name ?')\n",
    "if name  == 'chinyere':\n",
    "    print(f'You are welcome to our kingdom{name}')\n",
    "elif name == ' Damilola':\n",
    "    print(f'You are welcome to our palace{name}')\n",
    "elif name == 'Igwe':\n",
    "    print(f'welcome to our village {name}')\n",
    "elif name == 'Eniola':\n",
    "    print(f'You are welcome to our department{name}')\n",
    "elif name == 'Debo':\n",
    "    print(f'welcome to our faculty {name}')\n",
    "else:\n",
    "    print(f'we seem not to recognise you {name}')\n"
   ]
  },
  {
   "cell_type": "code",
   "execution_count": 222,
   "id": "d6a710c2",
   "metadata": {},
   "outputs": [
    {
     "name": "stdout",
     "output_type": "stream",
     "text": [
      "what is your name ?Eniola\n",
      "You are welcome to our department Eniola\n"
     ]
    }
   ],
   "source": [
    "name = input('what is your name ?')\n",
    "if name  == 'chinyere':\n",
    "    print(f'You are welcome to our kingdom{name}')\n",
    "elif name == ' Damilola':\n",
    "    print(f'You are welcome to our palace{name}')\n",
    "elif name == 'Igwe':\n",
    "    print(f'welcome to our village {name}')\n",
    "elif name == 'Eniola':\n",
    "    print(f'You are welcome to our department {name}')\n",
    "elif name == 'Debo':\n",
    "    print(f'welcome to our faculty {name}')\n",
    "else:\n",
    "    print('we seem not to recognise you {name}')\n"
   ]
  },
  {
   "cell_type": "code",
   "execution_count": 223,
   "id": "584b4584",
   "metadata": {},
   "outputs": [
    {
     "name": "stdout",
     "output_type": "stream",
     "text": [
      "what is your name ?>>>>>>>chinyere\n",
      "what is your score in the first test ?>>>>>>5\n",
      "what is your score in the second test ?>>>>>>7\n",
      "what is your score in the attendance ?>>>>>>15\n",
      "what is your score in the examination ?>>>>>>45\n",
      "...................................................................\n",
      "Hello chinyere, your total score is 74 and your grade is A\n"
     ]
    }
   ],
   "source": [
    "# Return a grade based on student's final score.\n",
    "\n",
    "# stud_name =>  name of the student\n",
    "# first_test => score in the first test\n",
    "# second_test => score in the second test\n",
    "# attd => score in the attendance\n",
    "# exam => score in the examination\n",
    "# total_score => student final score based on summation of the above scores.\n",
    "# assign a letter grade based on the student final score\n",
    "\n",
    "stud_name = input('what is your name ?>>>>>>>')\n",
    "first_test = int(input('what is your score in the first test ?>>>>>>'))\n",
    "first_second = int(input('what is your score in the second test ?>>>>>>'))\n",
    "attd = int(input('what is your score in the attendance ?>>>>>>'))\n",
    "exam = int(input('what is your score in the examination ?>>>>>>'))\n",
    "\n",
    "print('...................................................................')\n",
    "total_score = first_test + second_test + attd + exam\n",
    "\n",
    "if total_score  >= 70:\n",
    "    grade = 'A' \n",
    "elif total_score >= 60:\n",
    "    grade = 'B'\n",
    "elif total_score >= 50:\n",
    "    grade = 'C'\n",
    "elif total_score >= 40:\n",
    "    grade = 'D'\n",
    "else: \n",
    "    grade = 'F'\n",
    "\n",
    "print(f'Hello {stud_name}, your total score is {total_score} and your grade is {grade}')"
   ]
  },
  {
   "cell_type": "markdown",
   "id": "f6dd3d41",
   "metadata": {},
   "source": [
    "## Supermarket example\n",
    "- Customer type = Coperate or Retail\n",
    "- amount = total value of the purchased goods\n",
    "- coperate\n",
    "- discount\n",
    "- amount <= 10000 = 20%\n",
    "- amount <= 40000 = 25%\n",
    "- amount <= 100000 = 30%\n",
    "- amount > 100000 = 40%\n",
    "\n",
    "- Retail\n",
    "- discount\n",
    "- amount <= 10000 = 10%\n",
    "- amount <= 40000 = 15%\n",
    "- amount <= 100000 = 20%\n",
    "- amount > 100000 = 30%\n",
    "- print amount \n",
    "- print discount\n",
    "- amount_due = amount - discount\n"
   ]
  },
  {
   "cell_type": "code",
   "execution_count": 229,
   "id": "b7a38009",
   "metadata": {},
   "outputs": [
    {
     "name": "stdout",
     "output_type": "stream",
     "text": [
      "what type of customer are you?:  coperate\n",
      "what is the amount you spent?:  25000\n",
      ".................................................................\n",
      "Your total spending is 25000.0\n",
      "Based on your customer type, you are a coperate customer\n",
      "Based on your selection, discount is 0.25\n",
      "Your total amount due is 18750.0\n"
     ]
    }
   ],
   "source": [
    "cust_type = input('what type of customer are you?:  ')\n",
    "amt = float(input('what is the amount you spent?:  '))\n",
    "\n",
    "if cust_type == 'coperate' or cust_type == 'Retail':\n",
    "    if cust_type == 'coperate':\n",
    "        if amt <= 10000:\n",
    "            discount = 0.2\n",
    "        elif amt <= 40000:\n",
    "            discount = 0.25\n",
    "        elif amt <= 100000:\n",
    "            discount = 0.3\n",
    "        else:\n",
    "            discount = 0.4\n",
    "    elif cust_type == 'Retail':\n",
    "        if amt <= 10000:\n",
    "            discount = 0.1\n",
    "        if amt <= 40000:\n",
    "            discount = 0.15\n",
    "        if amt <= 100000:\n",
    "            discount = 0.2\n",
    "        else:\n",
    "            discount = 0.3\n",
    "        \n",
    "    amt_due = amt - (amt * discount)\n",
    "    print('.................................................................')\n",
    "    print(f'Your total spending is {amt}')\n",
    "    print(f'Based on your customer type, you are a {cust_type} customer')\n",
    "    print(f'Based on your selection, discount is {discount}')\n",
    "    print(f'Your total amount due is {amt_due}')\n",
    "\n",
    "\n",
    "else:\n",
    "    print('Sorry, that customer type does not exist')"
   ]
  },
  {
   "cell_type": "code",
   "execution_count": 230,
   "id": "5d1c6999",
   "metadata": {},
   "outputs": [
    {
     "name": "stdout",
     "output_type": "stream",
     "text": [
      "what type of customer are you?:  Retail\n",
      "what is the amount you spent?:  30000\n",
      ".................................................................\n",
      "Your total spending is 30000.0\n",
      "Based on your customer type, you are a Retail customer\n",
      "Based on your selection, discount is 0.2\n",
      "Your total amount due is 24000.0\n"
     ]
    }
   ],
   "source": [
    "cust_type = input('what type of customer are you?:  ')\n",
    "amt = float(input('what is the amount you spent?:  '))\n",
    "\n",
    "if cust_type == 'coperate' or cust_type == 'Retail':\n",
    "    if cust_type == 'coperate':\n",
    "        if amt <= 10000:\n",
    "            discount = 0.2\n",
    "        elif amt <= 40000:\n",
    "            discount = 0.25\n",
    "        elif amt <= 100000:\n",
    "            discount = 0.3\n",
    "        else:\n",
    "            discount = 0.4\n",
    "    elif cust_type == 'Retail':\n",
    "        if amt <= 10000:\n",
    "            discount = 0.1\n",
    "        if amt <= 40000:\n",
    "            discount = 0.15\n",
    "        if amt <= 100000:\n",
    "            discount = 0.2\n",
    "        else:\n",
    "            discount = 0.3\n",
    "        \n",
    "    amt_due = amt - (amt * discount)\n",
    "    print('.................................................................')\n",
    "    print(f'Your total spending is {amt}')\n",
    "    print(f'Based on your customer type, you are a {cust_type} customer')\n",
    "    print(f'Based on your selection, discount is {discount}')\n",
    "    print(f'Your total amount due is {amt_due}')\n",
    "\n",
    "\n",
    "else:\n",
    "    print('Sorry, that customer type does not exist')"
   ]
  },
  {
   "cell_type": "code",
   "execution_count": 231,
   "id": "c81607c2",
   "metadata": {},
   "outputs": [
    {
     "name": "stdout",
     "output_type": "stream",
     "text": [
      "what type of customer are you?:  chinyere\n",
      "what is the amount you spent?:  70000\n",
      "Sorry, that customer type does not exist\n"
     ]
    }
   ],
   "source": [
    "cust_type = input('what type of customer are you?:  ')\n",
    "amt = float(input('what is the amount you spent?:  '))\n",
    "\n",
    "if cust_type == 'coperate' or cust_type == 'Retail':\n",
    "    if cust_type == 'coperate':\n",
    "        if amt <= 10000:\n",
    "            discount = 0.2\n",
    "        elif amt <= 40000:\n",
    "            discount = 0.25\n",
    "        elif amt <= 100000:\n",
    "            discount = 0.3\n",
    "        else:\n",
    "            discount = 0.4\n",
    "    elif cust_type == 'Retail':\n",
    "        if amt <= 10000:\n",
    "            discount = 0.1\n",
    "        if amt <= 40000:\n",
    "            discount = 0.15\n",
    "        if amt <= 100000:\n",
    "            discount = 0.2\n",
    "        else:\n",
    "            discount = 0.3\n",
    "        \n",
    "    amt_due = amt - (amt * discount)\n",
    "    print('.................................................................')\n",
    "    print(f'Your total spending is {amt}')\n",
    "    print(f'Based on your customer type, you are a {cust_type} customer')\n",
    "    print(f'Based on your selection, discount is {discount}')\n",
    "    print(f'Your total amount due is {amt_due}')\n",
    "\n",
    "\n",
    "else:\n",
    "    print('Sorry, that customer type does not exist')"
   ]
  },
  {
   "cell_type": "markdown",
   "id": "7a777d48",
   "metadata": {},
   "source": [
    "## For Loop\n",
    "A for loop is used for iterating over a sequence ( that is either a list, a tuple, a dictionary, a set or a string)\n",
    "\n",
    "\n",
    "This is less like the for keyword in other programming languages, and works more like iterator method as found in other object-oriented programming languages\n",
    "\n",
    "\n",
    "With for loop we can execute a set of statement, once for each item in a list , tuple , set etc"
   ]
  },
  {
   "cell_type": "code",
   "execution_count": 234,
   "id": "6fd4f930",
   "metadata": {},
   "outputs": [
    {
     "data": {
      "text/plain": [
       "[1, 2, 3, 4, 5, 6, 7, 8, 9]"
      ]
     },
     "execution_count": 234,
     "metadata": {},
     "output_type": "execute_result"
    }
   ],
   "source": [
    "mylist1 = [1,2,3,4,5,6,7,8,9]\n",
    "mylist1"
   ]
  },
  {
   "cell_type": "code",
   "execution_count": 235,
   "id": "d52144db",
   "metadata": {},
   "outputs": [
    {
     "name": "stdout",
     "output_type": "stream",
     "text": [
      "1\n",
      "2\n",
      "3\n",
      "4\n",
      "5\n",
      "6\n",
      "7\n",
      "8\n",
      "9\n"
     ]
    }
   ],
   "source": [
    "for i in mylist1:\n",
    "    print(i)"
   ]
  },
  {
   "cell_type": "code",
   "execution_count": 236,
   "id": "cb65d754",
   "metadata": {},
   "outputs": [
    {
     "name": "stdout",
     "output_type": "stream",
     "text": [
      "0\n",
      "1\n",
      "2\n",
      "3\n",
      "4\n",
      "5\n",
      "6\n",
      "7\n",
      "8\n",
      "9\n",
      "10\n",
      "11\n",
      "12\n",
      "13\n",
      "14\n",
      "15\n",
      "16\n",
      "17\n",
      "18\n",
      "19\n"
     ]
    }
   ],
   "source": [
    "for num in range(20):\n",
    "    print(num)"
   ]
  },
  {
   "cell_type": "code",
   "execution_count": 237,
   "id": "10e360cf",
   "metadata": {},
   "outputs": [
    {
     "name": "stdout",
     "output_type": "stream",
     "text": [
      "3\n",
      "5\n",
      "7\n",
      "9\n",
      "11\n",
      "13\n",
      "15\n"
     ]
    }
   ],
   "source": [
    "for i in range(3,17,2):\n",
    "    print(i)"
   ]
  },
  {
   "cell_type": "code",
   "execution_count": 239,
   "id": "4e078cd3",
   "metadata": {},
   "outputs": [
    {
     "data": {
      "text/plain": [
       "[1, 2, 3, 4, 5, 6, 7, 8, 9, 10]"
      ]
     },
     "execution_count": 239,
     "metadata": {},
     "output_type": "execute_result"
    }
   ],
   "source": [
    "mylist2 = [1,2,3,4,5,6,7,8,9,10]\n",
    "mylist2"
   ]
  },
  {
   "cell_type": "code",
   "execution_count": 240,
   "id": "0c2246e0",
   "metadata": {},
   "outputs": [
    {
     "name": "stdout",
     "output_type": "stream",
     "text": [
      "2 is an even number\n",
      "4 is an even number\n",
      "6 is an even number\n",
      "8 is an even number\n",
      "10 is an even number\n"
     ]
    }
   ],
   "source": [
    "# returns an even numbers\n",
    "for i in mylist2:\n",
    "    if i % 2 == 0:\n",
    "     print(f'{i} is an even number')"
   ]
  },
  {
   "cell_type": "code",
   "execution_count": 246,
   "id": "653fac2a",
   "metadata": {},
   "outputs": [
    {
     "name": "stdout",
     "output_type": "stream",
     "text": [
      "1\n",
      "3\n",
      "6\n",
      "10\n",
      "15\n",
      "21\n",
      "28\n",
      "36\n",
      "45\n",
      "55\n",
      "66\n",
      "78\n",
      "91\n",
      "105\n",
      "120\n"
     ]
    }
   ],
   "source": [
    "# print the sum of the numbers progresively\n",
    "mylist3 = [1,2,3,4,5,6,7,8,9,10,11,12,13,14,15]\n",
    "sum_list = 0\n",
    "for i in mylist3:\n",
    "    sum_list = sum_list + i\n",
    "    print(sum_list)\n",
    "# sum_list = 0\n",
    "# sum_list = 0+1\n",
    "# current sum_list = 1\n",
    "\n",
    "# next step is \n",
    "# current sum_list = 1\n",
    "# sum_list = 1 + 2 ( 2 is next number from mylist3)\n",
    "# current sum_list = 3\n",
    "\n",
    "# next step is\n",
    "# current sum_list = 3\n",
    "# sum_list = 3 +3 (3 is the next number from mylist3)\n",
    "# current sum_list = 6\n"
   ]
  },
  {
   "cell_type": "code",
   "execution_count": 247,
   "id": "cea8db12",
   "metadata": {},
   "outputs": [
    {
     "name": "stdout",
     "output_type": "stream",
     "text": [
      "120\n"
     ]
    }
   ],
   "source": [
    "# print only the total sum by removing the indetation at the print function\n",
    "mylist3 = [1,2,3,4,5,6,7,8,9,10,11,12,13,14,15]\n",
    "sum_list = 0\n",
    "for i in mylist3:\n",
    "    sum_list = sum_list + i\n",
    "print(sum_list)\n",
    "# sum_list = 0\n",
    "# sum_list = 0+1\n",
    "# current sum_list = 1\n",
    "\n",
    "# next step is \n",
    "# current sum_list = 1\n",
    "# sum_list = 1 + 2 ( 2 is next number from mylist3)\n",
    "# current sum_list = 3\n",
    "\n",
    "# next step is\n",
    "# current sum_list = 3\n",
    "# sum_list = 3 +3 (3 is the next number from mylist3)\n",
    "# current sum_list = 6\n"
   ]
  },
  {
   "cell_type": "code",
   "execution_count": 4,
   "id": "e9b5f37c",
   "metadata": {},
   "outputs": [
    {
     "name": "stdout",
     "output_type": "stream",
     "text": [
      "0\n",
      "what is your total score?9\n",
      "9\n",
      "what is your total score?3\n",
      "12\n",
      "what is your total score?6\n",
      "18\n",
      "what is your total score?8\n",
      "26\n",
      "what is your total score?21\n",
      "47\n",
      "what is your total score?8\n",
      "..............................................\n",
      "Your total score is 55\n"
     ]
    }
   ],
   "source": [
    "# calculator program\n",
    "# 5 tests\n",
    "num_test = [1,2,3,4,5,6]\n",
    "total_score = 0\n",
    "\n",
    "for j in num_test:\n",
    "    print(total_score)\n",
    "    score = int(input('what is your total score?'))\n",
    "    total_score += score\n",
    "    \n",
    "print('..............................................')\n",
    "print(f'Your total score is {total_score}')\n",
    "    "
   ]
  },
  {
   "cell_type": "code",
   "execution_count": 3,
   "id": "a738c38f",
   "metadata": {},
   "outputs": [
    {
     "name": "stdout",
     "output_type": "stream",
     "text": [
      "0\n",
      "What is your score?4\n",
      "4\n",
      "What is your score?5\n",
      "9\n",
      "What is your score?2\n",
      "11\n",
      "What is your score?8\n",
      "19\n",
      "What is your score?9\n",
      "28\n",
      "What is your score?4\n",
      "32\n",
      "What is your score?6\n",
      "38\n",
      "What is your score?4\n",
      "42\n",
      "What is your score?6\n",
      "48\n",
      "What is your score?8\n",
      ".....................................\n",
      "Your total score is 56\n"
     ]
    }
   ],
   "source": [
    "mylist4 = [1,2,3,4,5,6,7,8,9,10]\n",
    "total_score = 0\n",
    "\n",
    "for k in mylist4:\n",
    "    print(total_score)\n",
    "    score = int(input('What is your score?'))\n",
    "    total_score += score\n",
    "    \n",
    "print('.....................................')\n",
    "print(f'Your total score is {total_score}')"
   ]
  },
  {
   "cell_type": "code",
   "execution_count": 5,
   "id": "50f8877f",
   "metadata": {
    "scrolled": true
   },
   "outputs": [
    {
     "name": "stdout",
     "output_type": "stream",
     "text": [
      "0\n",
      "what is your score?45\n",
      "45\n",
      "what is your score?1\n",
      "46\n",
      "what is your score?3\n",
      "49\n",
      "what is your score?4\n",
      "53\n",
      "what is your score?12\n",
      ".......................................\n",
      "Your total score is 65\n"
     ]
    }
   ],
   "source": [
    "mylist6 = [1,2,3,4,5]\n",
    "total_score = 0\n",
    "\n",
    "for i in mylist6:\n",
    "    print(total_score)\n",
    "    score = int(input('what is your score?'))\n",
    "    total_score += score\n",
    "    \n",
    "    \n",
    "print('.......................................')\n",
    "print(f'Your total score is {total_score}')"
   ]
  },
  {
   "cell_type": "code",
   "execution_count": 6,
   "id": "1f506389",
   "metadata": {},
   "outputs": [
    {
     "data": {
      "text/plain": [
       "[1, 3, 2, 4]"
      ]
     },
     "execution_count": 6,
     "metadata": {},
     "output_type": "execute_result"
    }
   ],
   "source": [
    "mylist8 = [1,3,2,4]\n",
    "mylist8"
   ]
  },
  {
   "cell_type": "markdown",
   "id": "caded6b1",
   "metadata": {},
   "source": [
    "## While Loop \n",
    "The while loop in python is used to iterate over a block of code as long as the test expression (condition) is true\n",
    "\n",
    "We generally use this loop when we dont know the number of times to iterate beforehand"
   ]
  },
  {
   "cell_type": "code",
   "execution_count": 10,
   "id": "111f8638",
   "metadata": {},
   "outputs": [
    {
     "name": "stdout",
     "output_type": "stream",
     "text": [
      "what is your name?: chinyere\n",
      "welcome to the class\n",
      "what is your name?chinyere\n",
      "welcome to the class\n",
      "what is your name?chinasa\n"
     ]
    }
   ],
   "source": [
    "name = input('what is your name?: ')\n",
    "\n",
    "while name == 'chinyere':\n",
    "    print('welcome to the class')\n",
    "    name = input('what is your name?')\n"
   ]
  },
  {
   "cell_type": "code",
   "execution_count": 14,
   "id": "8327ee20",
   "metadata": {},
   "outputs": [
    {
     "name": "stdout",
     "output_type": "stream",
     "text": [
      "0 is currently less than 10\n",
      "1 is currently less than 10\n",
      "2 is currently less than 10\n",
      "3 is currently less than 10\n",
      "4 is currently less than 10\n",
      "5 is currently less than 10\n",
      "6 is currently less than 10\n",
      "7 is currently less than 10\n",
      "8 is currently less than 10\n",
      "9 is currently less than 10\n"
     ]
    }
   ],
   "source": [
    "x = 0\n",
    "while x < 10:\n",
    "    print(f'{x} is currently less than 10')\n",
    "    x +=1"
   ]
  },
  {
   "cell_type": "code",
   "execution_count": 24,
   "id": "8f81f2ed",
   "metadata": {},
   "outputs": [
    {
     "name": "stdout",
     "output_type": "stream",
     "text": [
      "what is your name?: chinyere\n",
      "what class did you enrol for?:hdhd\n",
      ".......................................\n",
      "Hello chinyere\n",
      "The class you enrol for is hdhd and wil commence soon\n",
      "Do you want to continue: yes/nono\n",
      "Goodbye\n"
     ]
    }
   ],
   "source": [
    "answer = 'yes'\n",
    "\n",
    "while answer == 'yes':\n",
    "    name = input('what is your name?: ')\n",
    "    question = input('what class did you enrol for?:')\n",
    "    print('.......................................')\n",
    "    print(f'Hello {name}')\n",
    "    print(f'The class you enrol for is {question} and wil commence soon')\n",
    "    answer = input('Do you want to continue: yes/no')\n",
    "    \n",
    "print('Goodbye') "
   ]
  },
  {
   "cell_type": "code",
   "execution_count": 3,
   "id": "8e417e79",
   "metadata": {},
   "outputs": [
    {
     "name": "stdout",
     "output_type": "stream",
     "text": [
      "what is your name?: chinyere\n",
      "what class did you enrol for?:  gsb\n",
      "Hello chinyere\n",
      "The class that you ernrolled for is gsb and will commence soon\n",
      "Do you want to continue: yes/no  no\n",
      "Goodbye\n"
     ]
    }
   ],
   "source": [
    "answer = 'yes'\n",
    "while answer == 'yes':\n",
    "    name = input('what is your name?: ')\n",
    "    question = input('what class did you enrol for?:  ')\n",
    "    print(f'Hello {name}')\n",
    "    print(f'The class that you ernrolled for is {question} and will commence soon')\n",
    "    answer = input('Do you want to continue: yes/no  ')\n",
    "    \n",
    "print('Goodbye')\n",
    "    "
   ]
  },
  {
   "cell_type": "code",
   "execution_count": 7,
   "id": "4edb8b94",
   "metadata": {},
   "outputs": [
    {
     "ename": "SyntaxError",
     "evalue": "invalid syntax (<ipython-input-7-2a7a9fb6691f>, line 2)",
     "output_type": "error",
     "traceback": [
      "\u001b[1;36m  File \u001b[1;32m\"<ipython-input-7-2a7a9fb6691f>\"\u001b[1;36m, line \u001b[1;32m2\u001b[0m\n\u001b[1;33m    print('Ok',{name}'we need your help.')\u001b[0m\n\u001b[1;37m                     ^\u001b[0m\n\u001b[1;31mSyntaxError\u001b[0m\u001b[1;31m:\u001b[0m invalid syntax\n"
     ]
    }
   ],
   "source": [
    "name = raw_input(\"Welcome soldier. What is your name? \")\n",
    "print('Ok,', name, ' we need your help.')\n",
    "print(\"Do you want to help us? (Yes/No) \")\n",
    "ans = raw_input().lower()\n",
    "\n",
    "while True:\n",
    "    ans = raw_input().lower()(\"This is one of those times when only Yes/No will do!\" \"\\n\"  \"So what will it be? Yes? No?\")\n",
    "\n",
    "    ans = raw_input().lower()\n",
    "    if ans() == 'yes' or 'no':\n",
    "        break\n",
    "    if ans == \"yes\":\n",
    "        print (\"Good!\")\n",
    "    elif ans == \"no\":\n",
    "        print(\"I guess I was wrong about you...\" '\\n' \"Game over.\")"
   ]
  },
  {
   "cell_type": "code",
   "execution_count": 10,
   "id": "b36681d0",
   "metadata": {},
   "outputs": [
    {
     "name": "stdout",
     "output_type": "stream",
     "text": [
      "Welcome soldier. what is your name?:  chinyere\n",
      "ok chinyere we need your help,what is the work of the soldiers?: protect the citizens\n",
      ".........................................\n",
      "if that the work of the soldeier is to protect the citizens then we need you at Borno stat\n",
      "will you come: yes/noyes\n",
      "if that the work of the soldeier is to protect the citizens then we need you at Borno stat\n",
      "will you come: yes/noyes\n",
      "if that the work of the soldeier is to protect the citizens then we need you at Borno stat\n",
      "will you come: yes/nono\n",
      "I guess I was wrong about you..\n"
     ]
    }
   ],
   "source": [
    "answer = 'yes'\n",
    "\n",
    "name = input('Welcome soldier. what is your name?:  ')\n",
    "question  = input(f'ok {name} we need your help,what is the work of the soldiers?: ')\n",
    "print('.........................................')\n",
    "while answer == 'yes':\n",
    "    print(f'if that the work of the soldeier is to {question} then we need you at Borno stat')\n",
    "    #print('we need you at Borno state:')\n",
    "    answer = input('will you come: yes/no')\n",
    "    \n",
    "    #if ans == 'yes' or 'no':\n",
    "        #break\n",
    "    #if ans == \"yes\":\n",
    "        #print (\"Good!\")\n",
    "    #elif ans == \"no\":\n",
    "        \n",
    "        \n",
    "print('I guess I was wrong about you..')\n",
    "        \n",
    "\n",
    "    "
   ]
  },
  {
   "cell_type": "code",
   "execution_count": 12,
   "id": "485410ca",
   "metadata": {},
   "outputs": [
    {
     "name": "stdout",
     "output_type": "stream",
     "text": [
      "welcome soldier, what is your name?:  chigozie\n",
      "ok,chigozie we need your help, what is the work of the soldiers?:  protect the citizens\n",
      "\n",
      "if that the work of the soldiers is protect the citizens, we need you at Borno state\n",
      "will you come to Borno state: yes/noyes\n",
      "if that the work of the soldiers is protect the citizens, we need you at Borno state\n",
      "will you come to Borno state: yes/noyes\n",
      "if that the work of the soldiers is protect the citizens, we need you at Borno state\n",
      "will you come to Borno state: yes/nono\n",
      "I guess I was wrong at you\n"
     ]
    }
   ],
   "source": [
    "answer = 'yes'\n",
    "name = input('welcome soldier, what is your name?:  ')\n",
    "question = input(f'ok,{name} we need your help, what is the work of the soldiers?:  ')\n",
    "print('''''''''''''''''''''''''''''''''''''''''''''''')\n",
    "while answer == 'yes':\n",
    "    print(f'if that the work of the soldiers is {question}, we need you at Borno state')\n",
    "    answer = input('will you come to Borno state: yes/no')\n",
    "    \n",
    "    \n",
    "print('I guess I was wrong at you')\n",
    "    "
   ]
  },
  {
   "cell_type": "code",
   "execution_count": 2,
   "id": "5f5e8167",
   "metadata": {},
   "outputs": [
    {
     "name": "stdout",
     "output_type": "stream",
     "text": [
      "Hello young lady, what is your name?: ch\n",
      "Oh, ch you are beautiful, can you be my girlfriend?: Never can say\n",
      ".........................................................\n"
     ]
    },
    {
     "ename": "NameError",
     "evalue": "name 'quesion' is not defined",
     "output_type": "error",
     "traceback": [
      "\u001b[1;31m---------------------------------------------------------------------------\u001b[0m",
      "\u001b[1;31mNameError\u001b[0m                                 Traceback (most recent call last)",
      "\u001b[1;32m<ipython-input-2-156b85d788c3>\u001b[0m in \u001b[0;36m<module>\u001b[1;34m\u001b[0m\n\u001b[0;32m      4\u001b[0m \u001b[0mprint\u001b[0m\u001b[1;33m(\u001b[0m\u001b[1;34m'.........................................................'\u001b[0m\u001b[1;33m)\u001b[0m\u001b[1;33m\u001b[0m\u001b[1;33m\u001b[0m\u001b[0m\n\u001b[0;32m      5\u001b[0m \u001b[1;32mwhile\u001b[0m \u001b[0manswer\u001b[0m \u001b[1;33m==\u001b[0m \u001b[1;34m'yes'\u001b[0m\u001b[1;33m:\u001b[0m\u001b[1;33m\u001b[0m\u001b[1;33m\u001b[0m\u001b[0m\n\u001b[1;32m----> 6\u001b[1;33m     \u001b[0mprint\u001b[0m\u001b[1;33m(\u001b[0m\u001b[1;34mf'if that you can be my girlfriend {quesion}, i will come to your house'\u001b[0m\u001b[1;33m)\u001b[0m\u001b[1;33m\u001b[0m\u001b[1;33m\u001b[0m\u001b[0m\n\u001b[0m\u001b[0;32m      7\u001b[0m     \u001b[0manswer\u001b[0m \u001b[1;33m=\u001b[0m \u001b[1;33m(\u001b[0m\u001b[1;34m' will you allow me to come and visit you: yes/no'\u001b[0m\u001b[1;33m)\u001b[0m\u001b[1;33m\u001b[0m\u001b[1;33m\u001b[0m\u001b[0m\n\u001b[0;32m      8\u001b[0m \u001b[1;33m\u001b[0m\u001b[0m\n",
      "\u001b[1;31mNameError\u001b[0m: name 'quesion' is not defined"
     ]
    }
   ],
   "source": [
    "answer = 'yes'\n",
    "name = input('Hello young lady, what is your name?: ')\n",
    "question = input(f'Oh, {name} you are beautiful, can you be my girlfriend?: ')\n",
    "print('.........................................................')\n",
    "while answer == 'yes':\n",
    "    print(f'if that you can be my girlfriend {quesion}, i will come to your house')\n",
    "    answer = (' will you allow me to come and visit you: yes/no')\n",
    "    \n",
    "    \n",
    "print('see you soon')"
   ]
  },
  {
   "cell_type": "code",
   "execution_count": 3,
   "id": "b62e27d9",
   "metadata": {},
   "outputs": [
    {
     "data": {
      "text/plain": [
       "range(0, 10)"
      ]
     },
     "execution_count": 3,
     "metadata": {},
     "output_type": "execute_result"
    }
   ],
   "source": [
    "range(10)"
   ]
  },
  {
   "cell_type": "code",
   "execution_count": 4,
   "id": "d177974d",
   "metadata": {},
   "outputs": [
    {
     "name": "stdout",
     "output_type": "stream",
     "text": [
      "number is 0\n",
      "number is 1\n",
      "number is 2\n",
      "number is 3\n",
      "number is 4\n",
      "number is 5\n",
      "number is 6\n",
      "number is 7\n",
      "number is 8\n",
      "number is 9\n",
      "Out of loop\n"
     ]
    }
   ],
   "source": [
    "for num in range(10):\n",
    "    if num == 5:\n",
    "        pass\n",
    "    print(f'number is {num}')\n",
    "    \n",
    "print('Out of loop')"
   ]
  },
  {
   "cell_type": "code",
   "execution_count": 5,
   "id": "d18c05c7",
   "metadata": {},
   "outputs": [
    {
     "name": "stdout",
     "output_type": "stream",
     "text": [
      "numer is 0\n",
      "numer is 1\n",
      "numer is 2\n",
      "numer is 3\n",
      "numer is 4\n",
      "numer is 5\n",
      "numer is 6\n",
      "numer is 7\n",
      "numer is 8\n",
      "numer is 9\n",
      "numer is 10\n",
      "numer is 11\n",
      "numer is 12\n",
      "numer is 13\n",
      "numer is 14\n",
      "out of loop\n"
     ]
    }
   ],
   "source": [
    "for i in range(15):\n",
    "    if i == 5:\n",
    "        pass\n",
    "    print(f'numer is {i}')\n",
    "    \n",
    "print('out of loop')"
   ]
  },
  {
   "cell_type": "code",
   "execution_count": 7,
   "id": "a02acefe",
   "metadata": {},
   "outputs": [
    {
     "name": "stdout",
     "output_type": "stream",
     "text": [
      "number is 0\n",
      "number is 1\n",
      "number is 2\n",
      "number is 3\n",
      "number is 4\n",
      "out of loop\n"
     ]
    }
   ],
   "source": [
    "#break causes a loop to end\n",
    "\n",
    "for j in range(10):\n",
    "    if j == 5:\n",
    "        break\n",
    "    print(f'number is {j}')\n",
    "    \n",
    "print('out of loop')"
   ]
  },
  {
   "cell_type": "code",
   "execution_count": 9,
   "id": "3516ec14",
   "metadata": {},
   "outputs": [
    {
     "name": "stdout",
     "output_type": "stream",
     "text": [
      "number is 0\n",
      "number is 1\n",
      "number is 2\n",
      "number is 3\n",
      "number is 4\n",
      "number is 6\n",
      "number is 7\n",
      "number is 8\n",
      "number is 9\n",
      "out of loop\n"
     ]
    }
   ],
   "source": [
    "# continue ignore that particular line and goes to the next line\n",
    "\n",
    "for num in range(10):\n",
    "    if num == 5:\n",
    "        continue\n",
    "    print(f'number is {num}')\n",
    "    \n",
    "print('out of loop')"
   ]
  },
  {
   "cell_type": "code",
   "execution_count": 12,
   "id": "d5e7807e",
   "metadata": {},
   "outputs": [
    {
     "name": "stdout",
     "output_type": "stream",
     "text": [
      "3\n",
      "4\n",
      "5\n",
      "6\n",
      "7\n",
      "8\n",
      "9\n"
     ]
    }
   ],
   "source": [
    "for i in range (3,10):\n",
    "    print(i)"
   ]
  },
  {
   "cell_type": "code",
   "execution_count": 13,
   "id": "e0168447",
   "metadata": {},
   "outputs": [
    {
     "name": "stdout",
     "output_type": "stream",
     "text": [
      "3\n",
      "5\n",
      "7\n",
      "9\n"
     ]
    }
   ],
   "source": [
    "for i in range(3,10,2):\n",
    "    print(i)"
   ]
  },
  {
   "cell_type": "markdown",
   "id": "9cd9fbb4",
   "metadata": {},
   "source": [
    "## Function\n",
    "\n",
    "In python, a function is a group of related statement that perform a specific task.\n",
    "\n",
    "Functions helps break our programm into smaller and modular chunks. As our program grows larger, functions makes it more organised and manageable .\n",
    "\n",
    "Furthermore, it aviods repetion and and makes the code reusable"
   ]
  },
  {
   "cell_type": "code",
   "execution_count": null,
   "id": "0d09e59d",
   "metadata": {},
   "outputs": [],
   "source": [
    "# def name of a function:\n",
    "'''This is where you enter a description of what your function does'''\n",
    "# do stuff here\n",
    "# return result"
   ]
  },
  {
   "cell_type": "code",
   "execution_count": 15,
   "id": "04de7773",
   "metadata": {},
   "outputs": [],
   "source": [
    "def greeting():\n",
    "    '''This function returns a greeting'''\n",
    "    print('Hello World')"
   ]
  },
  {
   "cell_type": "code",
   "execution_count": 16,
   "id": "ad7be4fe",
   "metadata": {},
   "outputs": [
    {
     "name": "stdout",
     "output_type": "stream",
     "text": [
      "Hello World\n"
     ]
    }
   ],
   "source": [
    "greeting()"
   ]
  },
  {
   "cell_type": "code",
   "execution_count": 18,
   "id": "b3cec919",
   "metadata": {},
   "outputs": [],
   "source": [
    "def greet():\n",
    "    '''This function returns a greeting message to a user'''\n",
    "    name = input('what is your name?: ')\n",
    "    print(f'Hello {name},how are you doing today')"
   ]
  },
  {
   "cell_type": "code",
   "execution_count": 19,
   "id": "09cafe38",
   "metadata": {},
   "outputs": [
    {
     "name": "stdout",
     "output_type": "stream",
     "text": [
      "what is your name?: victor\n",
      "Hello victor,how are you doing today\n"
     ]
    }
   ],
   "source": [
    "greet()"
   ]
  },
  {
   "cell_type": "code",
   "execution_count": 22,
   "id": "ec6d175b",
   "metadata": {},
   "outputs": [],
   "source": [
    "def greetin():\n",
    "    '''This where the enters his or her information'''\n",
    "    name = input('Hello beautiful lady what is your name?: ')\n",
    "    print(f'oh,{name} you are welcome to our house')\n",
    "    "
   ]
  },
  {
   "cell_type": "code",
   "execution_count": 24,
   "id": "ed3669fc",
   "metadata": {},
   "outputs": [
    {
     "name": "stdout",
     "output_type": "stream",
     "text": [
      "Hello beautiful lady what is your name?: chinyere\n",
      "oh,chinyere you are welcome to our house\n"
     ]
    }
   ],
   "source": [
    "greetin()"
   ]
  },
  {
   "cell_type": "code",
   "execution_count": 25,
   "id": "3546abe7",
   "metadata": {},
   "outputs": [],
   "source": [
    "def addnumber(x,y):\n",
    "    '''Add two numbers'''\n",
    "    print(x +y)"
   ]
  },
  {
   "cell_type": "code",
   "execution_count": 26,
   "id": "3851dab0",
   "metadata": {},
   "outputs": [
    {
     "name": "stdout",
     "output_type": "stream",
     "text": [
      "11\n"
     ]
    }
   ],
   "source": [
    "addnumber(5,6)"
   ]
  },
  {
   "cell_type": "code",
   "execution_count": 35,
   "id": "480d913b",
   "metadata": {},
   "outputs": [],
   "source": [
    "def squarenum(x):\n",
    "    '''square a number'''\n",
    "    print(x**2)"
   ]
  },
  {
   "cell_type": "code",
   "execution_count": 37,
   "id": "1e2e51b8",
   "metadata": {},
   "outputs": [
    {
     "name": "stdout",
     "output_type": "stream",
     "text": [
      "25\n"
     ]
    }
   ],
   "source": [
    "squarenum(5)"
   ]
  },
  {
   "cell_type": "code",
   "execution_count": 54,
   "id": "2eb441e2",
   "metadata": {},
   "outputs": [],
   "source": [
    "def addition():\n",
    "    num = 0\n",
    "    for i in range(3):\n",
    "        num1 = int(input('Enter a number>>>'))\n",
    "        num += num1\n",
    "    print('............')\n",
    "    print(f'Your total number is {num}')\n",
    "    \n",
    "    "
   ]
  },
  {
   "cell_type": "code",
   "execution_count": 55,
   "id": "5fe89aa4",
   "metadata": {},
   "outputs": [
    {
     "name": "stdout",
     "output_type": "stream",
     "text": [
      "Enter a number>>>9\n",
      "Enter a number>>>6\n",
      "Enter a number>>>2\n",
      "............\n",
      "Your total number is 17\n"
     ]
    }
   ],
   "source": [
    "addition()"
   ]
  },
  {
   "cell_type": "code",
   "execution_count": 52,
   "id": "c95d33d1",
   "metadata": {},
   "outputs": [],
   "source": [
    "def addition():\n",
    "    num = 2\n",
    "    for i in range(3):\n",
    "        num1 = int(input('Enter a number>>>'))\n",
    "        num += num1\n",
    "    print('............')\n",
    "    print(f'Your total number is {num}')\n",
    "    \n",
    "    "
   ]
  },
  {
   "cell_type": "code",
   "execution_count": 53,
   "id": "20b7d9b0",
   "metadata": {},
   "outputs": [
    {
     "name": "stdout",
     "output_type": "stream",
     "text": [
      "Enter a number>>>9\n",
      "Enter a number>>>8\n",
      "Enter a number>>>9\n",
      "............\n",
      "Your total number is 28\n"
     ]
    }
   ],
   "source": [
    "addition()"
   ]
  },
  {
   "cell_type": "code",
   "execution_count": 56,
   "id": "152932bd",
   "metadata": {},
   "outputs": [],
   "source": [
    "def addin():\n",
    "    num = 2\n",
    "    for i in range(3):\n",
    "        num1 = int(input('Enter a number>>>'))\n",
    "        num += num1\n",
    "    return(num)\n",
    "    \n",
    "    "
   ]
  },
  {
   "cell_type": "code",
   "execution_count": 57,
   "id": "84ed1564",
   "metadata": {},
   "outputs": [
    {
     "name": "stdout",
     "output_type": "stream",
     "text": [
      "Enter a number>>>9\n",
      "Enter a number>>>8\n",
      "Enter a number>>>3\n"
     ]
    },
    {
     "data": {
      "text/plain": [
       "22"
      ]
     },
     "execution_count": 57,
     "metadata": {},
     "output_type": "execute_result"
    }
   ],
   "source": [
    "addin()"
   ]
  },
  {
   "cell_type": "code",
   "execution_count": 8,
   "id": "04562f0b",
   "metadata": {},
   "outputs": [],
   "source": [
    "# Return a grade based on student's final score.\n",
    "\n",
    "# stud_name =>  name of the student\n",
    "# first_test => score in the first test\n",
    "# second_test => score in the second test\n",
    "# attd => score in the attendance\n",
    "# exam => score in the examination\n",
    "# total_score => student final score based on summation of the above scores.\n",
    "# assign a letter grade based on the student final score\n",
    "def return_grade():\n",
    "    \n",
    "    stud_name = input('what is your name ?>>>>>>>')\n",
    "    first_test = int(input('what is your score in the first test ?>>>>>>'))\n",
    "    second_test = int(input('what is your score in the second test ?>>>>>>'))\n",
    "    attd = int(input('what is your score in the attendance ?>>>>>>'))\n",
    "    exam = int(input('what is your score in the examination ?>>>>>>'))\n",
    "\n",
    "    print('...................................................................')\n",
    "    total_score = first_test + second_test + attd + exam\n",
    "\n",
    "    if total_score  >= 70:\n",
    "        grade = 'A' \n",
    "    elif total_score >= 60:\n",
    "        grade = 'B'\n",
    "    elif total_score >= 50:\n",
    "        grade = 'C'\n",
    "    elif total_score >= 40:\n",
    "        grade = 'D'\n",
    "    else: \n",
    "        grade = 'F'\n",
    "\n",
    "    print(f'Hello {stud_name}, your total score is {total_score} and your grade is {grade}')"
   ]
  },
  {
   "cell_type": "code",
   "execution_count": 9,
   "id": "b12ae960",
   "metadata": {},
   "outputs": [
    {
     "name": "stdout",
     "output_type": "stream",
     "text": [
      "what is your name ?>>>>>>>chinyere\n",
      "what is your score in the first test ?>>>>>>6\n",
      "what is your score in the second test ?>>>>>>8\n",
      "what is your score in the attendance ?>>>>>>14\n",
      "what is your score in the examination ?>>>>>>55\n",
      "...................................................................\n",
      "Hello chinyere, your total score is 83 and your grade is A\n"
     ]
    }
   ],
   "source": [
    "return_grade()"
   ]
  },
  {
   "cell_type": "code",
   "execution_count": 10,
   "id": "132616fc",
   "metadata": {},
   "outputs": [
    {
     "name": "stdout",
     "output_type": "stream",
     "text": [
      "what is your name ?>>>>>>>koges\n",
      "what is your score in the first test ?>>>>>>8\n",
      "what is your score in the second test ?>>>>>>9\n",
      "what is your score in the attendance ?>>>>>>10\n",
      "what is your score in the examination ?>>>>>>54\n",
      "...................................................................\n",
      "Hello koges, your total score is 81 and your grade is A\n"
     ]
    }
   ],
   "source": [
    "return_grade()"
   ]
  },
  {
   "cell_type": "code",
   "execution_count": 16,
   "id": "30722a60",
   "metadata": {},
   "outputs": [],
   "source": [
    "    def return_grades(stud_name,f_test,s_test,attd,exam):\n",
    "        \n",
    "        \n",
    "    \n",
    "        total_score = f_test + s_test + attd + exam\n",
    "\n",
    "        if total_score  >= 70:\n",
    "            grade = 'A' \n",
    "        elif total_score >= 60:\n",
    "            grade = 'B'\n",
    "        elif total_score >= 50:\n",
    "            grade = 'C'\n",
    "        elif total_score >= 40:\n",
    "            grade = 'D'\n",
    "        else: \n",
    "            grade = 'F'\n",
    "\n",
    "        print(f'Hello {stud_name}, your total score is {total_score} and your grade is {grade}')"
   ]
  },
  {
   "cell_type": "code",
   "execution_count": 17,
   "id": "a4846194",
   "metadata": {},
   "outputs": [
    {
     "name": "stdout",
     "output_type": "stream",
     "text": [
      "Hello chinyere, your total score is 82 and your grade is A\n"
     ]
    }
   ],
   "source": [
    "return_grades('chinyere',10,8,9,55)"
   ]
  },
  {
   "cell_type": "code",
   "execution_count": 22,
   "id": "4d42da0d",
   "metadata": {},
   "outputs": [],
   "source": [
    "def convert():\n",
    "    '''Return all lower case for a given number'''\n",
    "    name = input('what is your name?: ')\n",
    "    user = name.lower()\n",
    "    return user"
   ]
  },
  {
   "cell_type": "markdown",
   "id": "fcb483e6",
   "metadata": {},
   "source": [
    "convert()"
   ]
  },
  {
   "cell_type": "code",
   "execution_count": 25,
   "id": "835e99f8",
   "metadata": {},
   "outputs": [],
   "source": [
    "# default argumet\n",
    "def say_hello(name,age =24):\n",
    "              '''Return an output statement'''\n",
    "              print(f'Your name is {name} and your age is {age}')\n",
    "              "
   ]
  },
  {
   "cell_type": "code",
   "execution_count": 26,
   "id": "8613c8e1",
   "metadata": {},
   "outputs": [
    {
     "name": "stdout",
     "output_type": "stream",
     "text": [
      "Your name is chinyere and your age is 24\n"
     ]
    }
   ],
   "source": [
    "say_hello('chinyere')"
   ]
  },
  {
   "cell_type": "code",
   "execution_count": 29,
   "id": "41facd61",
   "metadata": {},
   "outputs": [
    {
     "name": "stdout",
     "output_type": "stream",
     "text": [
      "Your name is chinyere and your age is 40\n"
     ]
    }
   ],
   "source": [
    "say_hello('chinyere',40)"
   ]
  },
  {
   "cell_type": "code",
   "execution_count": 30,
   "id": "1ecd8f4e",
   "metadata": {},
   "outputs": [
    {
     "name": "stdout",
     "output_type": "stream",
     "text": [
      "Your name is Eseosa and your age is 12\n"
     ]
    }
   ],
   "source": [
    "say_hello('Eseosa',12)"
   ]
  },
  {
   "cell_type": "markdown",
   "id": "05b28d37",
   "metadata": {},
   "source": [
    "## Map Function\n",
    "\n",
    "Mapping consists of applying a transformation function to an iterabel to produce a new iterable. Items in the new iterable are produced by calling the transformation function on each item in the original iterable"
   ]
  },
  {
   "cell_type": "code",
   "execution_count": null,
   "id": "90e7cc83",
   "metadata": {},
   "outputs": [],
   "source": []
  },
  {
   "cell_type": "code",
   "execution_count": null,
   "id": "ef31799f",
   "metadata": {},
   "outputs": [],
   "source": []
  },
  {
   "cell_type": "code",
   "execution_count": null,
   "id": "a79383d5",
   "metadata": {},
   "outputs": [],
   "source": []
  }
 ],
 "metadata": {
  "kernelspec": {
   "display_name": "Python 3",
   "language": "python",
   "name": "python3"
  },
  "language_info": {
   "codemirror_mode": {
    "name": "ipython",
    "version": 3
   },
   "file_extension": ".py",
   "mimetype": "text/x-python",
   "name": "python",
   "nbconvert_exporter": "python",
   "pygments_lexer": "ipython3",
   "version": "3.8.8"
  }
 },
 "nbformat": 4,
 "nbformat_minor": 5
}
